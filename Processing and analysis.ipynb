{
 "cells": [
  {
   "cell_type": "markdown",
   "metadata": {
    "id": "hXWZIiogBB2p"
   },
   "source": [
    "# Phân tích dữ liệu Báo cáo bán hàng từ 01/03/2023 đến 30/06/2023 CỦA CÔNG TY TNHH BARISTA COLLECTIVE"
   ]
  },
  {
   "cell_type": "markdown",
   "metadata": {
    "id": "LDxJZ8xUxEND"
   },
   "source": [
    "# Khai báo thư viện"
   ]
  },
  {
   "cell_type": "code",
   "execution_count": 1,
   "metadata": {
    "id": "22vfgcb6kfHG"
   },
   "outputs": [],
   "source": [
    "import pandas as pd\n",
    "import numpy as np\n",
    "import matplotlib.pyplot as plt\n",
    "import seaborn as sb"
   ]
  },
  {
   "cell_type": "markdown",
   "metadata": {
    "id": "1OZUp8jK6TPh"
   },
   "source": [
    "# Tiền xử lí dữ liệu"
   ]
  },
  {
   "cell_type": "markdown",
   "metadata": {
    "id": "sYsZacBxJyup"
   },
   "source": [
    "***Đọc dữ liệu và lấy hàng đầu tiên làm tên cột***"
   ]
  },
  {
   "cell_type": "code",
   "execution_count": 2,
   "metadata": {
    "colab": {
     "base_uri": "https://localhost:8080/",
     "height": 817
    },
    "id": "82I8xCsuk1Dk",
    "outputId": "75e44adc-8671-45c1-8599-e2346c815976"
   },
   "outputs": [
    {
     "data": {
      "text/html": [
       "\n",
       "  <div id=\"df-0f7c980d-534e-477a-9b54-ceb54c24af14\">\n",
       "    <div class=\"colab-df-container\">\n",
       "      <div>\n",
       "<style scoped>\n",
       "    .dataframe tbody tr th:only-of-type {\n",
       "        vertical-align: middle;\n",
       "    }\n",
       "\n",
       "    .dataframe tbody tr th {\n",
       "        vertical-align: top;\n",
       "    }\n",
       "\n",
       "    .dataframe thead th {\n",
       "        text-align: right;\n",
       "    }\n",
       "</style>\n",
       "<table border=\"1\" class=\"dataframe\">\n",
       "  <thead>\n",
       "    <tr style=\"text-align: right;\">\n",
       "      <th></th>\n",
       "      <th>Mã hàng</th>\n",
       "      <th>Tên hàng</th>\n",
       "      <th>Nhóm món</th>\n",
       "      <th>Loại món</th>\n",
       "      <th>PTTT</th>\n",
       "      <th>Nguồn</th>\n",
       "      <th>Hoá đơn</th>\n",
       "      <th>Số hoá đơn</th>\n",
       "      <th>Ngày</th>\n",
       "      <th>Giờ</th>\n",
       "      <th>...</th>\n",
       "      <th>Phí ship</th>\n",
       "      <th>Tổng tiền (không bao gồm VAT)</th>\n",
       "      <th>Hoa hồng</th>\n",
       "      <th>Tổng tiền (bao gồm hoa hồng)</th>\n",
       "      <th>Tên CTKM</th>\n",
       "      <th>Mã voucher</th>\n",
       "      <th>Tên khách</th>\n",
       "      <th>Số khách</th>\n",
       "      <th>Số điện thoại</th>\n",
       "      <th>Tổng tiền</th>\n",
       "    </tr>\n",
       "  </thead>\n",
       "  <tbody>\n",
       "    <tr>\n",
       "      <th>0</th>\n",
       "      <td>ITEM-QZ78</td>\n",
       "      <td>LATTE CARAMEL MACCHIATO</td>\n",
       "      <td>COFFEE</td>\n",
       "      <td>thức uống</td>\n",
       "      <td>ATM</td>\n",
       "      <td>TẠI CHỖ</td>\n",
       "      <td>8J8BB2J5K4V2A4L9I281A57</td>\n",
       "      <td>50500002</td>\n",
       "      <td>02/03/2023</td>\n",
       "      <td>07:24</td>\n",
       "      <td>...</td>\n",
       "      <td>0</td>\n",
       "      <td>5.363600e+04</td>\n",
       "      <td>0</td>\n",
       "      <td>59000</td>\n",
       "      <td>NaN</td>\n",
       "      <td>NaN</td>\n",
       "      <td>NaN</td>\n",
       "      <td>NaN</td>\n",
       "      <td>NaN</td>\n",
       "      <td>59000</td>\n",
       "    </tr>\n",
       "    <tr>\n",
       "      <th>1</th>\n",
       "      <td>ITEM-PCYI</td>\n",
       "      <td>CAPPUCCINO</td>\n",
       "      <td>COFFEE</td>\n",
       "      <td>thức uống</td>\n",
       "      <td>ATM</td>\n",
       "      <td>TẠI CHỖ</td>\n",
       "      <td>8J8BB2J5K4V2A4L9I281A57</td>\n",
       "      <td>50500002</td>\n",
       "      <td>02/03/2023</td>\n",
       "      <td>07:24</td>\n",
       "      <td>...</td>\n",
       "      <td>0</td>\n",
       "      <td>5.000000e+04</td>\n",
       "      <td>0</td>\n",
       "      <td>55000</td>\n",
       "      <td>NaN</td>\n",
       "      <td>NaN</td>\n",
       "      <td>NaN</td>\n",
       "      <td>NaN</td>\n",
       "      <td>NaN</td>\n",
       "      <td>55000</td>\n",
       "    </tr>\n",
       "    <tr>\n",
       "      <th>2</th>\n",
       "      <td>ITEM-R6OI</td>\n",
       "      <td>COLD</td>\n",
       "      <td>EXTRA</td>\n",
       "      <td>-</td>\n",
       "      <td>ATM</td>\n",
       "      <td>TẠI CHỖ</td>\n",
       "      <td>8J8BB2J5K4V2A4L9I281A57</td>\n",
       "      <td>50500002</td>\n",
       "      <td>02/03/2023</td>\n",
       "      <td>07:24</td>\n",
       "      <td>...</td>\n",
       "      <td>0</td>\n",
       "      <td>0.000000e+00</td>\n",
       "      <td>0</td>\n",
       "      <td>0</td>\n",
       "      <td>NaN</td>\n",
       "      <td>NaN</td>\n",
       "      <td>NaN</td>\n",
       "      <td>NaN</td>\n",
       "      <td>NaN</td>\n",
       "      <td>0</td>\n",
       "    </tr>\n",
       "    <tr>\n",
       "      <th>3</th>\n",
       "      <td>ITEM-HSCI</td>\n",
       "      <td>Croissant bơ tỏi</td>\n",
       "      <td>CAKE</td>\n",
       "      <td>đồ ăn</td>\n",
       "      <td>ATM</td>\n",
       "      <td>TẠI CHỖ</td>\n",
       "      <td>8J8BB2J5K4V2A4L9I281A57</td>\n",
       "      <td>50500002</td>\n",
       "      <td>02/03/2023</td>\n",
       "      <td>07:24</td>\n",
       "      <td>...</td>\n",
       "      <td>0</td>\n",
       "      <td>3.545500e+04</td>\n",
       "      <td>0</td>\n",
       "      <td>39000</td>\n",
       "      <td>NaN</td>\n",
       "      <td>NaN</td>\n",
       "      <td>NaN</td>\n",
       "      <td>NaN</td>\n",
       "      <td>NaN</td>\n",
       "      <td>39000</td>\n",
       "    </tr>\n",
       "    <tr>\n",
       "      <th>4</th>\n",
       "      <td>ITEM-15VK</td>\n",
       "      <td>Croissant lava chà bông cay</td>\n",
       "      <td>CAKE</td>\n",
       "      <td>đồ ăn</td>\n",
       "      <td>ATM</td>\n",
       "      <td>TẠI CHỖ</td>\n",
       "      <td>8J8BB2J5K4V2A4L9I281A57</td>\n",
       "      <td>50500002</td>\n",
       "      <td>02/03/2023</td>\n",
       "      <td>07:24</td>\n",
       "      <td>...</td>\n",
       "      <td>0</td>\n",
       "      <td>4.090900e+04</td>\n",
       "      <td>0</td>\n",
       "      <td>45000</td>\n",
       "      <td>NaN</td>\n",
       "      <td>NaN</td>\n",
       "      <td>NaN</td>\n",
       "      <td>NaN</td>\n",
       "      <td>NaN</td>\n",
       "      <td>45000</td>\n",
       "    </tr>\n",
       "    <tr>\n",
       "      <th>...</th>\n",
       "      <td>...</td>\n",
       "      <td>...</td>\n",
       "      <td>...</td>\n",
       "      <td>...</td>\n",
       "      <td>...</td>\n",
       "      <td>...</td>\n",
       "      <td>...</td>\n",
       "      <td>...</td>\n",
       "      <td>...</td>\n",
       "      <td>...</td>\n",
       "      <td>...</td>\n",
       "      <td>...</td>\n",
       "      <td>...</td>\n",
       "      <td>...</td>\n",
       "      <td>...</td>\n",
       "      <td>...</td>\n",
       "      <td>...</td>\n",
       "      <td>...</td>\n",
       "      <td>...</td>\n",
       "      <td>...</td>\n",
       "      <td>...</td>\n",
       "    </tr>\n",
       "    <tr>\n",
       "      <th>34775</th>\n",
       "      <td>ITEM-HNYC</td>\n",
       "      <td>TRÀ PHÊ BỌT SỮA MUỐI HỒNG (SEA CREAM COFFEE MI...</td>\n",
       "      <td>TEA</td>\n",
       "      <td>thức uống</td>\n",
       "      <td>CASH</td>\n",
       "      <td>TẠI CHỖ</td>\n",
       "      <td>8J8BB2J5K4V2853XCPES5FVE</td>\n",
       "      <td>50500180</td>\n",
       "      <td>26/06/2023</td>\n",
       "      <td>18:46</td>\n",
       "      <td>...</td>\n",
       "      <td>0</td>\n",
       "      <td>5.363600e+04</td>\n",
       "      <td>0</td>\n",
       "      <td>59000</td>\n",
       "      <td>NaN</td>\n",
       "      <td>NaN</td>\n",
       "      <td>NaN</td>\n",
       "      <td>NaN</td>\n",
       "      <td>NaN</td>\n",
       "      <td>59000</td>\n",
       "    </tr>\n",
       "    <tr>\n",
       "      <th>34776</th>\n",
       "      <td>ITEM-C9VF</td>\n",
       "      <td>TRÀ CHANH HẠT CHIA (CHIA LEMON TEA)</td>\n",
       "      <td>TEA</td>\n",
       "      <td>thức uống</td>\n",
       "      <td>CASH</td>\n",
       "      <td>TẠI CHỖ</td>\n",
       "      <td>8J8BB2J5K4V2TB6Y8M7A11D</td>\n",
       "      <td>50500181</td>\n",
       "      <td>26/06/2023</td>\n",
       "      <td>19:19</td>\n",
       "      <td>...</td>\n",
       "      <td>0</td>\n",
       "      <td>4.090900e+04</td>\n",
       "      <td>0</td>\n",
       "      <td>45000</td>\n",
       "      <td>NaN</td>\n",
       "      <td>NaN</td>\n",
       "      <td>NaN</td>\n",
       "      <td>NaN</td>\n",
       "      <td>NaN</td>\n",
       "      <td>45000</td>\n",
       "    </tr>\n",
       "    <tr>\n",
       "      <th>34777</th>\n",
       "      <td>ITEM-YYL1</td>\n",
       "      <td>\"CÀ PHÊ SỮA\" ĐÁ</td>\n",
       "      <td>COFFEE</td>\n",
       "      <td>thức uống</td>\n",
       "      <td>CASH</td>\n",
       "      <td>TẠI CHỖ</td>\n",
       "      <td>8J8BB2J5K4V2TB6Y8M7A11D</td>\n",
       "      <td>50500181</td>\n",
       "      <td>26/06/2023</td>\n",
       "      <td>19:19</td>\n",
       "      <td>...</td>\n",
       "      <td>0</td>\n",
       "      <td>3.181800e+04</td>\n",
       "      <td>0</td>\n",
       "      <td>35000</td>\n",
       "      <td>NaN</td>\n",
       "      <td>NaN</td>\n",
       "      <td>NaN</td>\n",
       "      <td>NaN</td>\n",
       "      <td>NaN</td>\n",
       "      <td>35000</td>\n",
       "    </tr>\n",
       "    <tr>\n",
       "      <th>34778</th>\n",
       "      <td>ITEM-E8LH</td>\n",
       "      <td>TRÀ CAM ĐÀO (PEACH SUNRISE TEA)</td>\n",
       "      <td>TEA</td>\n",
       "      <td>thức uống</td>\n",
       "      <td>CASH</td>\n",
       "      <td>TẠI CHỖ</td>\n",
       "      <td>8J8BB2J5K4V2TB6YYCKFIIB</td>\n",
       "      <td>50500182</td>\n",
       "      <td>26/06/2023</td>\n",
       "      <td>20:11</td>\n",
       "      <td>...</td>\n",
       "      <td>0</td>\n",
       "      <td>5.363600e+04</td>\n",
       "      <td>0</td>\n",
       "      <td>59000</td>\n",
       "      <td>NaN</td>\n",
       "      <td>NaN</td>\n",
       "      <td>NaN</td>\n",
       "      <td>NaN</td>\n",
       "      <td>NaN</td>\n",
       "      <td>59000</td>\n",
       "    </tr>\n",
       "    <tr>\n",
       "      <th>34779</th>\n",
       "      <td>-</td>\n",
       "      <td>-</td>\n",
       "      <td>-</td>\n",
       "      <td>-</td>\n",
       "      <td>-</td>\n",
       "      <td>-</td>\n",
       "      <td>-</td>\n",
       "      <td>-</td>\n",
       "      <td>-</td>\n",
       "      <td>-</td>\n",
       "      <td>...</td>\n",
       "      <td>0</td>\n",
       "      <td>1.368980e+09</td>\n",
       "      <td>0</td>\n",
       "      <td>1504238030</td>\n",
       "      <td>NaN</td>\n",
       "      <td>NaN</td>\n",
       "      <td>NaN</td>\n",
       "      <td>NaN</td>\n",
       "      <td>NaN</td>\n",
       "      <td>1504238030</td>\n",
       "    </tr>\n",
       "  </tbody>\n",
       "</table>\n",
       "<p>34780 rows × 30 columns</p>\n",
       "</div>\n",
       "      <button class=\"colab-df-convert\" onclick=\"convertToInteractive('df-0f7c980d-534e-477a-9b54-ceb54c24af14')\"\n",
       "              title=\"Convert this dataframe to an interactive table.\"\n",
       "              style=\"display:none;\">\n",
       "        \n",
       "  <svg xmlns=\"http://www.w3.org/2000/svg\" height=\"24px\"viewBox=\"0 0 24 24\"\n",
       "       width=\"24px\">\n",
       "    <path d=\"M0 0h24v24H0V0z\" fill=\"none\"/>\n",
       "    <path d=\"M18.56 5.44l.94 2.06.94-2.06 2.06-.94-2.06-.94-.94-2.06-.94 2.06-2.06.94zm-11 1L8.5 8.5l.94-2.06 2.06-.94-2.06-.94L8.5 2.5l-.94 2.06-2.06.94zm10 10l.94 2.06.94-2.06 2.06-.94-2.06-.94-.94-2.06-.94 2.06-2.06.94z\"/><path d=\"M17.41 7.96l-1.37-1.37c-.4-.4-.92-.59-1.43-.59-.52 0-1.04.2-1.43.59L10.3 9.45l-7.72 7.72c-.78.78-.78 2.05 0 2.83L4 21.41c.39.39.9.59 1.41.59.51 0 1.02-.2 1.41-.59l7.78-7.78 2.81-2.81c.8-.78.8-2.07 0-2.86zM5.41 20L4 18.59l7.72-7.72 1.47 1.35L5.41 20z\"/>\n",
       "  </svg>\n",
       "      </button>\n",
       "      \n",
       "  <style>\n",
       "    .colab-df-container {\n",
       "      display:flex;\n",
       "      flex-wrap:wrap;\n",
       "      gap: 12px;\n",
       "    }\n",
       "\n",
       "    .colab-df-convert {\n",
       "      background-color: #E8F0FE;\n",
       "      border: none;\n",
       "      border-radius: 50%;\n",
       "      cursor: pointer;\n",
       "      display: none;\n",
       "      fill: #1967D2;\n",
       "      height: 32px;\n",
       "      padding: 0 0 0 0;\n",
       "      width: 32px;\n",
       "    }\n",
       "\n",
       "    .colab-df-convert:hover {\n",
       "      background-color: #E2EBFA;\n",
       "      box-shadow: 0px 1px 2px rgba(60, 64, 67, 0.3), 0px 1px 3px 1px rgba(60, 64, 67, 0.15);\n",
       "      fill: #174EA6;\n",
       "    }\n",
       "\n",
       "    [theme=dark] .colab-df-convert {\n",
       "      background-color: #3B4455;\n",
       "      fill: #D2E3FC;\n",
       "    }\n",
       "\n",
       "    [theme=dark] .colab-df-convert:hover {\n",
       "      background-color: #434B5C;\n",
       "      box-shadow: 0px 1px 3px 1px rgba(0, 0, 0, 0.15);\n",
       "      filter: drop-shadow(0px 1px 2px rgba(0, 0, 0, 0.3));\n",
       "      fill: #FFFFFF;\n",
       "    }\n",
       "  </style>\n",
       "\n",
       "      <script>\n",
       "        const buttonEl =\n",
       "          document.querySelector('#df-0f7c980d-534e-477a-9b54-ceb54c24af14 button.colab-df-convert');\n",
       "        buttonEl.style.display =\n",
       "          google.colab.kernel.accessAllowed ? 'block' : 'none';\n",
       "\n",
       "        async function convertToInteractive(key) {\n",
       "          const element = document.querySelector('#df-0f7c980d-534e-477a-9b54-ceb54c24af14');\n",
       "          const dataTable =\n",
       "            await google.colab.kernel.invokeFunction('convertToInteractive',\n",
       "                                                     [key], {});\n",
       "          if (!dataTable) return;\n",
       "\n",
       "          const docLinkHtml = 'Like what you see? Visit the ' +\n",
       "            '<a target=\"_blank\" href=https://colab.research.google.com/notebooks/data_table.ipynb>data table notebook</a>'\n",
       "            + ' to learn more about interactive tables.';\n",
       "          element.innerHTML = '';\n",
       "          dataTable['output_type'] = 'display_data';\n",
       "          await google.colab.output.renderOutput(dataTable, element);\n",
       "          const docLink = document.createElement('div');\n",
       "          docLink.innerHTML = docLinkHtml;\n",
       "          element.appendChild(docLink);\n",
       "        }\n",
       "      </script>\n",
       "    </div>\n",
       "  </div>\n",
       "  "
      ],
      "text/plain": [
       "         Mã hàng                                           Tên hàng Nhóm món  \\\n",
       "0      ITEM-QZ78                            LATTE CARAMEL MACCHIATO   COFFEE   \n",
       "1      ITEM-PCYI                                         CAPPUCCINO   COFFEE   \n",
       "2      ITEM-R6OI                                               COLD    EXTRA   \n",
       "3      ITEM-HSCI                                   Croissant bơ tỏi     CAKE   \n",
       "4      ITEM-15VK                        Croissant lava chà bông cay     CAKE   \n",
       "...          ...                                                ...      ...   \n",
       "34775  ITEM-HNYC  TRÀ PHÊ BỌT SỮA MUỐI HỒNG (SEA CREAM COFFEE MI...      TEA   \n",
       "34776  ITEM-C9VF                TRÀ CHANH HẠT CHIA (CHIA LEMON TEA)      TEA   \n",
       "34777  ITEM-YYL1                                    \"CÀ PHÊ SỮA\" ĐÁ   COFFEE   \n",
       "34778  ITEM-E8LH                    TRÀ CAM ĐÀO (PEACH SUNRISE TEA)      TEA   \n",
       "34779          -                                                  -        -   \n",
       "\n",
       "        Loại món  PTTT    Nguồn                   Hoá đơn Số hoá đơn  \\\n",
       "0      thức uống   ATM  TẠI CHỖ   8J8BB2J5K4V2A4L9I281A57   50500002   \n",
       "1      thức uống   ATM  TẠI CHỖ   8J8BB2J5K4V2A4L9I281A57   50500002   \n",
       "2              -   ATM  TẠI CHỖ   8J8BB2J5K4V2A4L9I281A57   50500002   \n",
       "3          đồ ăn   ATM  TẠI CHỖ   8J8BB2J5K4V2A4L9I281A57   50500002   \n",
       "4          đồ ăn   ATM  TẠI CHỖ   8J8BB2J5K4V2A4L9I281A57   50500002   \n",
       "...          ...   ...      ...                       ...        ...   \n",
       "34775  thức uống  CASH  TẠI CHỖ  8J8BB2J5K4V2853XCPES5FVE   50500180   \n",
       "34776  thức uống  CASH  TẠI CHỖ   8J8BB2J5K4V2TB6Y8M7A11D   50500181   \n",
       "34777  thức uống  CASH  TẠI CHỖ   8J8BB2J5K4V2TB6Y8M7A11D   50500181   \n",
       "34778  thức uống  CASH  TẠI CHỖ   8J8BB2J5K4V2TB6YYCKFIIB   50500182   \n",
       "34779          -     -        -                         -          -   \n",
       "\n",
       "             Ngày    Giờ  ...  Phí ship Tổng tiền (không bao gồm VAT)  \\\n",
       "0      02/03/2023  07:24  ...         0                  5.363600e+04   \n",
       "1      02/03/2023  07:24  ...         0                  5.000000e+04   \n",
       "2      02/03/2023  07:24  ...         0                  0.000000e+00   \n",
       "3      02/03/2023  07:24  ...         0                  3.545500e+04   \n",
       "4      02/03/2023  07:24  ...         0                  4.090900e+04   \n",
       "...           ...    ...  ...       ...                           ...   \n",
       "34775  26/06/2023  18:46  ...         0                  5.363600e+04   \n",
       "34776  26/06/2023  19:19  ...         0                  4.090900e+04   \n",
       "34777  26/06/2023  19:19  ...         0                  3.181800e+04   \n",
       "34778  26/06/2023  20:11  ...         0                  5.363600e+04   \n",
       "34779           -      -  ...         0                  1.368980e+09   \n",
       "\n",
       "       Hoa hồng  Tổng tiền (bao gồm hoa hồng)  Tên CTKM  Mã voucher  \\\n",
       "0             0                         59000       NaN         NaN   \n",
       "1             0                         55000       NaN         NaN   \n",
       "2             0                             0       NaN         NaN   \n",
       "3             0                         39000       NaN         NaN   \n",
       "4             0                         45000       NaN         NaN   \n",
       "...         ...                           ...       ...         ...   \n",
       "34775         0                         59000       NaN         NaN   \n",
       "34776         0                         45000       NaN         NaN   \n",
       "34777         0                         35000       NaN         NaN   \n",
       "34778         0                         59000       NaN         NaN   \n",
       "34779         0                    1504238030       NaN         NaN   \n",
       "\n",
       "       Tên khách  Số khách  Số điện thoại   Tổng tiền  \n",
       "0            NaN       NaN            NaN       59000  \n",
       "1            NaN       NaN            NaN       55000  \n",
       "2            NaN       NaN            NaN           0  \n",
       "3            NaN       NaN            NaN       39000  \n",
       "4            NaN       NaN            NaN       45000  \n",
       "...          ...       ...            ...         ...  \n",
       "34775        NaN       NaN            NaN       59000  \n",
       "34776        NaN       NaN            NaN       45000  \n",
       "34777        NaN       NaN            NaN       35000  \n",
       "34778        NaN       NaN            NaN       59000  \n",
       "34779        NaN       NaN            NaN  1504238030  \n",
       "\n",
       "[34780 rows x 30 columns]"
      ]
     },
     "execution_count": 2,
     "metadata": {},
     "output_type": "execute_result"
    }
   ],
   "source": [
    "df = pd.read_excel('/content/drive/MyDrive/MyData/accounting_sale.xlsx', header=1)\n",
    "df"
   ]
  },
  {
   "cell_type": "markdown",
   "metadata": {
    "id": "Y2AyjTscJw4Z"
   },
   "source": [
    "***Xóa hàng cuối cùng***"
   ]
  },
  {
   "cell_type": "code",
   "execution_count": 3,
   "metadata": {
    "colab": {
     "base_uri": "https://localhost:8080/",
     "height": 470
    },
    "id": "KuP0ycyBJe7o",
    "outputId": "f36ed145-c342-434f-c6cc-200ad438e320"
   },
   "outputs": [
    {
     "data": {
      "text/html": [
       "\n",
       "  <div id=\"df-23f1598b-a32a-42ee-890b-bc3479a4a565\">\n",
       "    <div class=\"colab-df-container\">\n",
       "      <div>\n",
       "<style scoped>\n",
       "    .dataframe tbody tr th:only-of-type {\n",
       "        vertical-align: middle;\n",
       "    }\n",
       "\n",
       "    .dataframe tbody tr th {\n",
       "        vertical-align: top;\n",
       "    }\n",
       "\n",
       "    .dataframe thead th {\n",
       "        text-align: right;\n",
       "    }\n",
       "</style>\n",
       "<table border=\"1\" class=\"dataframe\">\n",
       "  <thead>\n",
       "    <tr style=\"text-align: right;\">\n",
       "      <th></th>\n",
       "      <th>Mã hàng</th>\n",
       "      <th>Tên hàng</th>\n",
       "      <th>Nhóm món</th>\n",
       "      <th>Loại món</th>\n",
       "      <th>PTTT</th>\n",
       "      <th>Nguồn</th>\n",
       "      <th>Hoá đơn</th>\n",
       "      <th>Số hoá đơn</th>\n",
       "      <th>Ngày</th>\n",
       "      <th>Giờ</th>\n",
       "      <th>...</th>\n",
       "      <th>Phí ship</th>\n",
       "      <th>Tổng tiền (không bao gồm VAT)</th>\n",
       "      <th>Hoa hồng</th>\n",
       "      <th>Tổng tiền (bao gồm hoa hồng)</th>\n",
       "      <th>Tên CTKM</th>\n",
       "      <th>Mã voucher</th>\n",
       "      <th>Tên khách</th>\n",
       "      <th>Số khách</th>\n",
       "      <th>Số điện thoại</th>\n",
       "      <th>Tổng tiền</th>\n",
       "    </tr>\n",
       "  </thead>\n",
       "  <tbody>\n",
       "    <tr>\n",
       "      <th>0</th>\n",
       "      <td>ITEM-QZ78</td>\n",
       "      <td>LATTE CARAMEL MACCHIATO</td>\n",
       "      <td>COFFEE</td>\n",
       "      <td>thức uống</td>\n",
       "      <td>ATM</td>\n",
       "      <td>TẠI CHỖ</td>\n",
       "      <td>8J8BB2J5K4V2A4L9I281A57</td>\n",
       "      <td>50500002</td>\n",
       "      <td>02/03/2023</td>\n",
       "      <td>07:24</td>\n",
       "      <td>...</td>\n",
       "      <td>0</td>\n",
       "      <td>53636.0</td>\n",
       "      <td>0</td>\n",
       "      <td>59000</td>\n",
       "      <td>NaN</td>\n",
       "      <td>NaN</td>\n",
       "      <td>NaN</td>\n",
       "      <td>NaN</td>\n",
       "      <td>NaN</td>\n",
       "      <td>59000</td>\n",
       "    </tr>\n",
       "    <tr>\n",
       "      <th>1</th>\n",
       "      <td>ITEM-PCYI</td>\n",
       "      <td>CAPPUCCINO</td>\n",
       "      <td>COFFEE</td>\n",
       "      <td>thức uống</td>\n",
       "      <td>ATM</td>\n",
       "      <td>TẠI CHỖ</td>\n",
       "      <td>8J8BB2J5K4V2A4L9I281A57</td>\n",
       "      <td>50500002</td>\n",
       "      <td>02/03/2023</td>\n",
       "      <td>07:24</td>\n",
       "      <td>...</td>\n",
       "      <td>0</td>\n",
       "      <td>50000.0</td>\n",
       "      <td>0</td>\n",
       "      <td>55000</td>\n",
       "      <td>NaN</td>\n",
       "      <td>NaN</td>\n",
       "      <td>NaN</td>\n",
       "      <td>NaN</td>\n",
       "      <td>NaN</td>\n",
       "      <td>55000</td>\n",
       "    </tr>\n",
       "    <tr>\n",
       "      <th>2</th>\n",
       "      <td>ITEM-R6OI</td>\n",
       "      <td>COLD</td>\n",
       "      <td>EXTRA</td>\n",
       "      <td>-</td>\n",
       "      <td>ATM</td>\n",
       "      <td>TẠI CHỖ</td>\n",
       "      <td>8J8BB2J5K4V2A4L9I281A57</td>\n",
       "      <td>50500002</td>\n",
       "      <td>02/03/2023</td>\n",
       "      <td>07:24</td>\n",
       "      <td>...</td>\n",
       "      <td>0</td>\n",
       "      <td>0.0</td>\n",
       "      <td>0</td>\n",
       "      <td>0</td>\n",
       "      <td>NaN</td>\n",
       "      <td>NaN</td>\n",
       "      <td>NaN</td>\n",
       "      <td>NaN</td>\n",
       "      <td>NaN</td>\n",
       "      <td>0</td>\n",
       "    </tr>\n",
       "    <tr>\n",
       "      <th>3</th>\n",
       "      <td>ITEM-HSCI</td>\n",
       "      <td>Croissant bơ tỏi</td>\n",
       "      <td>CAKE</td>\n",
       "      <td>đồ ăn</td>\n",
       "      <td>ATM</td>\n",
       "      <td>TẠI CHỖ</td>\n",
       "      <td>8J8BB2J5K4V2A4L9I281A57</td>\n",
       "      <td>50500002</td>\n",
       "      <td>02/03/2023</td>\n",
       "      <td>07:24</td>\n",
       "      <td>...</td>\n",
       "      <td>0</td>\n",
       "      <td>35455.0</td>\n",
       "      <td>0</td>\n",
       "      <td>39000</td>\n",
       "      <td>NaN</td>\n",
       "      <td>NaN</td>\n",
       "      <td>NaN</td>\n",
       "      <td>NaN</td>\n",
       "      <td>NaN</td>\n",
       "      <td>39000</td>\n",
       "    </tr>\n",
       "    <tr>\n",
       "      <th>4</th>\n",
       "      <td>ITEM-15VK</td>\n",
       "      <td>Croissant lava chà bông cay</td>\n",
       "      <td>CAKE</td>\n",
       "      <td>đồ ăn</td>\n",
       "      <td>ATM</td>\n",
       "      <td>TẠI CHỖ</td>\n",
       "      <td>8J8BB2J5K4V2A4L9I281A57</td>\n",
       "      <td>50500002</td>\n",
       "      <td>02/03/2023</td>\n",
       "      <td>07:24</td>\n",
       "      <td>...</td>\n",
       "      <td>0</td>\n",
       "      <td>40909.0</td>\n",
       "      <td>0</td>\n",
       "      <td>45000</td>\n",
       "      <td>NaN</td>\n",
       "      <td>NaN</td>\n",
       "      <td>NaN</td>\n",
       "      <td>NaN</td>\n",
       "      <td>NaN</td>\n",
       "      <td>45000</td>\n",
       "    </tr>\n",
       "  </tbody>\n",
       "</table>\n",
       "<p>5 rows × 30 columns</p>\n",
       "</div>\n",
       "      <button class=\"colab-df-convert\" onclick=\"convertToInteractive('df-23f1598b-a32a-42ee-890b-bc3479a4a565')\"\n",
       "              title=\"Convert this dataframe to an interactive table.\"\n",
       "              style=\"display:none;\">\n",
       "        \n",
       "  <svg xmlns=\"http://www.w3.org/2000/svg\" height=\"24px\"viewBox=\"0 0 24 24\"\n",
       "       width=\"24px\">\n",
       "    <path d=\"M0 0h24v24H0V0z\" fill=\"none\"/>\n",
       "    <path d=\"M18.56 5.44l.94 2.06.94-2.06 2.06-.94-2.06-.94-.94-2.06-.94 2.06-2.06.94zm-11 1L8.5 8.5l.94-2.06 2.06-.94-2.06-.94L8.5 2.5l-.94 2.06-2.06.94zm10 10l.94 2.06.94-2.06 2.06-.94-2.06-.94-.94-2.06-.94 2.06-2.06.94z\"/><path d=\"M17.41 7.96l-1.37-1.37c-.4-.4-.92-.59-1.43-.59-.52 0-1.04.2-1.43.59L10.3 9.45l-7.72 7.72c-.78.78-.78 2.05 0 2.83L4 21.41c.39.39.9.59 1.41.59.51 0 1.02-.2 1.41-.59l7.78-7.78 2.81-2.81c.8-.78.8-2.07 0-2.86zM5.41 20L4 18.59l7.72-7.72 1.47 1.35L5.41 20z\"/>\n",
       "  </svg>\n",
       "      </button>\n",
       "      \n",
       "  <style>\n",
       "    .colab-df-container {\n",
       "      display:flex;\n",
       "      flex-wrap:wrap;\n",
       "      gap: 12px;\n",
       "    }\n",
       "\n",
       "    .colab-df-convert {\n",
       "      background-color: #E8F0FE;\n",
       "      border: none;\n",
       "      border-radius: 50%;\n",
       "      cursor: pointer;\n",
       "      display: none;\n",
       "      fill: #1967D2;\n",
       "      height: 32px;\n",
       "      padding: 0 0 0 0;\n",
       "      width: 32px;\n",
       "    }\n",
       "\n",
       "    .colab-df-convert:hover {\n",
       "      background-color: #E2EBFA;\n",
       "      box-shadow: 0px 1px 2px rgba(60, 64, 67, 0.3), 0px 1px 3px 1px rgba(60, 64, 67, 0.15);\n",
       "      fill: #174EA6;\n",
       "    }\n",
       "\n",
       "    [theme=dark] .colab-df-convert {\n",
       "      background-color: #3B4455;\n",
       "      fill: #D2E3FC;\n",
       "    }\n",
       "\n",
       "    [theme=dark] .colab-df-convert:hover {\n",
       "      background-color: #434B5C;\n",
       "      box-shadow: 0px 1px 3px 1px rgba(0, 0, 0, 0.15);\n",
       "      filter: drop-shadow(0px 1px 2px rgba(0, 0, 0, 0.3));\n",
       "      fill: #FFFFFF;\n",
       "    }\n",
       "  </style>\n",
       "\n",
       "      <script>\n",
       "        const buttonEl =\n",
       "          document.querySelector('#df-23f1598b-a32a-42ee-890b-bc3479a4a565 button.colab-df-convert');\n",
       "        buttonEl.style.display =\n",
       "          google.colab.kernel.accessAllowed ? 'block' : 'none';\n",
       "\n",
       "        async function convertToInteractive(key) {\n",
       "          const element = document.querySelector('#df-23f1598b-a32a-42ee-890b-bc3479a4a565');\n",
       "          const dataTable =\n",
       "            await google.colab.kernel.invokeFunction('convertToInteractive',\n",
       "                                                     [key], {});\n",
       "          if (!dataTable) return;\n",
       "\n",
       "          const docLinkHtml = 'Like what you see? Visit the ' +\n",
       "            '<a target=\"_blank\" href=https://colab.research.google.com/notebooks/data_table.ipynb>data table notebook</a>'\n",
       "            + ' to learn more about interactive tables.';\n",
       "          element.innerHTML = '';\n",
       "          dataTable['output_type'] = 'display_data';\n",
       "          await google.colab.output.renderOutput(dataTable, element);\n",
       "          const docLink = document.createElement('div');\n",
       "          docLink.innerHTML = docLinkHtml;\n",
       "          element.appendChild(docLink);\n",
       "        }\n",
       "      </script>\n",
       "    </div>\n",
       "  </div>\n",
       "  "
      ],
      "text/plain": [
       "     Mã hàng                     Tên hàng Nhóm món   Loại món PTTT    Nguồn  \\\n",
       "0  ITEM-QZ78      LATTE CARAMEL MACCHIATO   COFFEE  thức uống  ATM  TẠI CHỖ   \n",
       "1  ITEM-PCYI                   CAPPUCCINO   COFFEE  thức uống  ATM  TẠI CHỖ   \n",
       "2  ITEM-R6OI                         COLD    EXTRA          -  ATM  TẠI CHỖ   \n",
       "3  ITEM-HSCI             Croissant bơ tỏi     CAKE      đồ ăn  ATM  TẠI CHỖ   \n",
       "4  ITEM-15VK  Croissant lava chà bông cay     CAKE      đồ ăn  ATM  TẠI CHỖ   \n",
       "\n",
       "                   Hoá đơn Số hoá đơn        Ngày    Giờ  ...  Phí ship  \\\n",
       "0  8J8BB2J5K4V2A4L9I281A57   50500002  02/03/2023  07:24  ...         0   \n",
       "1  8J8BB2J5K4V2A4L9I281A57   50500002  02/03/2023  07:24  ...         0   \n",
       "2  8J8BB2J5K4V2A4L9I281A57   50500002  02/03/2023  07:24  ...         0   \n",
       "3  8J8BB2J5K4V2A4L9I281A57   50500002  02/03/2023  07:24  ...         0   \n",
       "4  8J8BB2J5K4V2A4L9I281A57   50500002  02/03/2023  07:24  ...         0   \n",
       "\n",
       "  Tổng tiền (không bao gồm VAT)  Hoa hồng  Tổng tiền (bao gồm hoa hồng)  \\\n",
       "0                       53636.0         0                         59000   \n",
       "1                       50000.0         0                         55000   \n",
       "2                           0.0         0                             0   \n",
       "3                       35455.0         0                         39000   \n",
       "4                       40909.0         0                         45000   \n",
       "\n",
       "   Tên CTKM  Mã voucher  Tên khách  Số khách  Số điện thoại  Tổng tiền  \n",
       "0       NaN         NaN        NaN       NaN            NaN      59000  \n",
       "1       NaN         NaN        NaN       NaN            NaN      55000  \n",
       "2       NaN         NaN        NaN       NaN            NaN          0  \n",
       "3       NaN         NaN        NaN       NaN            NaN      39000  \n",
       "4       NaN         NaN        NaN       NaN            NaN      45000  \n",
       "\n",
       "[5 rows x 30 columns]"
      ]
     },
     "execution_count": 3,
     "metadata": {},
     "output_type": "execute_result"
    }
   ],
   "source": [
    "df.drop(df.index[-1], inplace=True)\n",
    "df.head()"
   ]
  },
  {
   "cell_type": "markdown",
   "metadata": {
    "id": "20-qBs4v5P6G"
   },
   "source": [
    "### Các thống kê mô tả về dữ liệu"
   ]
  },
  {
   "cell_type": "markdown",
   "metadata": {
    "id": "V-KWn63k6C9U"
   },
   "source": [
    "***Kích thước dữ liệu***"
   ]
  },
  {
   "cell_type": "code",
   "execution_count": 4,
   "metadata": {
    "colab": {
     "base_uri": "https://localhost:8080/"
    },
    "id": "P9JlKg9Kvc45",
    "outputId": "929bcfca-3295-4e58-e6ef-3ea5fad86dfa"
   },
   "outputs": [
    {
     "data": {
      "text/plain": [
       "(34779, 30)"
      ]
     },
     "execution_count": 4,
     "metadata": {},
     "output_type": "execute_result"
    }
   ],
   "source": [
    "df.shape"
   ]
  },
  {
   "cell_type": "markdown",
   "metadata": {
    "id": "ALGyxwlz6IRI"
   },
   "source": [
    "***Kiểu dữ liệu***"
   ]
  },
  {
   "cell_type": "code",
   "execution_count": 5,
   "metadata": {
    "colab": {
     "base_uri": "https://localhost:8080/"
    },
    "id": "9cuKm_Oa5TbG",
    "outputId": "575b82bf-eaf8-4d99-c14b-62a09ddd67fe"
   },
   "outputs": [
    {
     "data": {
      "text/plain": [
       "Mã hàng                           object\n",
       "Tên hàng                          object\n",
       "Nhóm món                          object\n",
       "Loại món                          object\n",
       "PTTT                              object\n",
       "Nguồn                             object\n",
       "Hoá đơn                           object\n",
       "Số hoá đơn                        object\n",
       "Ngày                              object\n",
       "Giờ                               object\n",
       "Số lượng                         float64\n",
       "Đơn vị tính                       object\n",
       "Giá bán                            int64\n",
       "Thành tiền                       float64\n",
       "Giảm giá                           int64\n",
       "Chiết khấu                         int64\n",
       "Phí hỗ trợ marketing               int64\n",
       "Phiếu giảm giá                     int64\n",
       "Phí dịch vụ                        int64\n",
       "Thuế                               int64\n",
       "Phí ship                           int64\n",
       "Tổng tiền (không bao gồm VAT)    float64\n",
       "Hoa hồng                           int64\n",
       "Tổng tiền (bao gồm hoa hồng)       int64\n",
       "Tên CTKM                          object\n",
       "Mã voucher                        object\n",
       "Tên khách                        float64\n",
       "Số khách                         float64\n",
       "Số điện thoại                    float64\n",
       "Tổng tiền                          int64\n",
       "dtype: object"
      ]
     },
     "execution_count": 5,
     "metadata": {},
     "output_type": "execute_result"
    }
   ],
   "source": [
    "df.dtypes"
   ]
  },
  {
   "cell_type": "markdown",
   "metadata": {
    "id": "CnB9VAJM-MAZ"
   },
   "source": [
    "***Bảng mô tả***"
   ]
  },
  {
   "cell_type": "code",
   "execution_count": 6,
   "metadata": {
    "colab": {
     "base_uri": "https://localhost:8080/",
     "height": 399
    },
    "id": "L87fWd6Gw2fe",
    "outputId": "21e02f5b-f448-4430-b27f-a5b1b5c62a97"
   },
   "outputs": [
    {
     "data": {
      "text/html": [
       "\n",
       "  <div id=\"df-eea477ed-5392-462d-ba4e-9f78fcb440e2\">\n",
       "    <div class=\"colab-df-container\">\n",
       "      <div>\n",
       "<style scoped>\n",
       "    .dataframe tbody tr th:only-of-type {\n",
       "        vertical-align: middle;\n",
       "    }\n",
       "\n",
       "    .dataframe tbody tr th {\n",
       "        vertical-align: top;\n",
       "    }\n",
       "\n",
       "    .dataframe thead th {\n",
       "        text-align: right;\n",
       "    }\n",
       "</style>\n",
       "<table border=\"1\" class=\"dataframe\">\n",
       "  <thead>\n",
       "    <tr style=\"text-align: right;\">\n",
       "      <th></th>\n",
       "      <th>Số lượng</th>\n",
       "      <th>Giá bán</th>\n",
       "      <th>Thành tiền</th>\n",
       "      <th>Giảm giá</th>\n",
       "      <th>Chiết khấu</th>\n",
       "      <th>Phí hỗ trợ marketing</th>\n",
       "      <th>Phiếu giảm giá</th>\n",
       "      <th>Phí dịch vụ</th>\n",
       "      <th>Thuế</th>\n",
       "      <th>Phí ship</th>\n",
       "      <th>Tổng tiền (không bao gồm VAT)</th>\n",
       "      <th>Hoa hồng</th>\n",
       "      <th>Tổng tiền (bao gồm hoa hồng)</th>\n",
       "      <th>Tên khách</th>\n",
       "      <th>Số khách</th>\n",
       "      <th>Số điện thoại</th>\n",
       "      <th>Tổng tiền</th>\n",
       "    </tr>\n",
       "  </thead>\n",
       "  <tbody>\n",
       "    <tr>\n",
       "      <th>count</th>\n",
       "      <td>34779.000000</td>\n",
       "      <td>34779.000000</td>\n",
       "      <td>3.477900e+04</td>\n",
       "      <td>34779.000000</td>\n",
       "      <td>3.477900e+04</td>\n",
       "      <td>34779.0</td>\n",
       "      <td>34779.000000</td>\n",
       "      <td>34779.0</td>\n",
       "      <td>34779.000000</td>\n",
       "      <td>34779.0</td>\n",
       "      <td>3.477900e+04</td>\n",
       "      <td>34779.0</td>\n",
       "      <td>3.477900e+04</td>\n",
       "      <td>0.0</td>\n",
       "      <td>0.0</td>\n",
       "      <td>0.0</td>\n",
       "      <td>3.477900e+04</td>\n",
       "    </tr>\n",
       "    <tr>\n",
       "      <th>mean</th>\n",
       "      <td>1.110729</td>\n",
       "      <td>39135.829092</td>\n",
       "      <td>4.456258e+04</td>\n",
       "      <td>25.216366</td>\n",
       "      <td>1.238876e+03</td>\n",
       "      <td>0.0</td>\n",
       "      <td>47.157768</td>\n",
       "      <td>0.0</td>\n",
       "      <td>3936.238161</td>\n",
       "      <td>0.0</td>\n",
       "      <td>3.936225e+04</td>\n",
       "      <td>0.0</td>\n",
       "      <td>4.325133e+04</td>\n",
       "      <td>NaN</td>\n",
       "      <td>NaN</td>\n",
       "      <td>NaN</td>\n",
       "      <td>4.325133e+04</td>\n",
       "    </tr>\n",
       "    <tr>\n",
       "      <th>std</th>\n",
       "      <td>0.732554</td>\n",
       "      <td>23870.933135</td>\n",
       "      <td>6.243903e+04</td>\n",
       "      <td>500.105379</td>\n",
       "      <td>2.634349e+04</td>\n",
       "      <td>0.0</td>\n",
       "      <td>588.745284</td>\n",
       "      <td>0.0</td>\n",
       "      <td>4523.782191</td>\n",
       "      <td>0.0</td>\n",
       "      <td>4.523766e+04</td>\n",
       "      <td>0.0</td>\n",
       "      <td>4.975309e+04</td>\n",
       "      <td>NaN</td>\n",
       "      <td>NaN</td>\n",
       "      <td>NaN</td>\n",
       "      <td>4.975309e+04</td>\n",
       "    </tr>\n",
       "    <tr>\n",
       "      <th>min</th>\n",
       "      <td>1.000000</td>\n",
       "      <td>0.000000</td>\n",
       "      <td>0.000000e+00</td>\n",
       "      <td>0.000000</td>\n",
       "      <td>0.000000e+00</td>\n",
       "      <td>0.0</td>\n",
       "      <td>0.000000</td>\n",
       "      <td>0.0</td>\n",
       "      <td>0.000000</td>\n",
       "      <td>0.0</td>\n",
       "      <td>0.000000e+00</td>\n",
       "      <td>0.0</td>\n",
       "      <td>0.000000e+00</td>\n",
       "      <td>NaN</td>\n",
       "      <td>NaN</td>\n",
       "      <td>NaN</td>\n",
       "      <td>0.000000e+00</td>\n",
       "    </tr>\n",
       "    <tr>\n",
       "      <th>25%</th>\n",
       "      <td>1.000000</td>\n",
       "      <td>30000.000000</td>\n",
       "      <td>3.000000e+04</td>\n",
       "      <td>0.000000</td>\n",
       "      <td>0.000000e+00</td>\n",
       "      <td>0.0</td>\n",
       "      <td>0.000000</td>\n",
       "      <td>0.0</td>\n",
       "      <td>2727.000000</td>\n",
       "      <td>0.0</td>\n",
       "      <td>2.727300e+04</td>\n",
       "      <td>0.0</td>\n",
       "      <td>3.000000e+04</td>\n",
       "      <td>NaN</td>\n",
       "      <td>NaN</td>\n",
       "      <td>NaN</td>\n",
       "      <td>3.000000e+04</td>\n",
       "    </tr>\n",
       "    <tr>\n",
       "      <th>50%</th>\n",
       "      <td>1.000000</td>\n",
       "      <td>45000.000000</td>\n",
       "      <td>4.500000e+04</td>\n",
       "      <td>0.000000</td>\n",
       "      <td>0.000000e+00</td>\n",
       "      <td>0.0</td>\n",
       "      <td>0.000000</td>\n",
       "      <td>0.0</td>\n",
       "      <td>4090.000000</td>\n",
       "      <td>0.0</td>\n",
       "      <td>4.090900e+04</td>\n",
       "      <td>0.0</td>\n",
       "      <td>4.400000e+04</td>\n",
       "      <td>NaN</td>\n",
       "      <td>NaN</td>\n",
       "      <td>NaN</td>\n",
       "      <td>4.400000e+04</td>\n",
       "    </tr>\n",
       "    <tr>\n",
       "      <th>75%</th>\n",
       "      <td>1.000000</td>\n",
       "      <td>55000.000000</td>\n",
       "      <td>5.500000e+04</td>\n",
       "      <td>0.000000</td>\n",
       "      <td>0.000000e+00</td>\n",
       "      <td>0.0</td>\n",
       "      <td>0.000000</td>\n",
       "      <td>0.0</td>\n",
       "      <td>5000.000000</td>\n",
       "      <td>0.0</td>\n",
       "      <td>5.000000e+04</td>\n",
       "      <td>0.0</td>\n",
       "      <td>5.500000e+04</td>\n",
       "      <td>NaN</td>\n",
       "      <td>NaN</td>\n",
       "      <td>NaN</td>\n",
       "      <td>5.500000e+04</td>\n",
       "    </tr>\n",
       "    <tr>\n",
       "      <th>max</th>\n",
       "      <td>69.000000</td>\n",
       "      <td>269000.000000</td>\n",
       "      <td>7.350000e+06</td>\n",
       "      <td>23600.000000</td>\n",
       "      <td>4.655000e+06</td>\n",
       "      <td>0.0</td>\n",
       "      <td>22000.000000</td>\n",
       "      <td>0.0</td>\n",
       "      <td>282273.000000</td>\n",
       "      <td>0.0</td>\n",
       "      <td>2.822727e+06</td>\n",
       "      <td>0.0</td>\n",
       "      <td>3.105000e+06</td>\n",
       "      <td>NaN</td>\n",
       "      <td>NaN</td>\n",
       "      <td>NaN</td>\n",
       "      <td>3.105000e+06</td>\n",
       "    </tr>\n",
       "  </tbody>\n",
       "</table>\n",
       "</div>\n",
       "      <button class=\"colab-df-convert\" onclick=\"convertToInteractive('df-eea477ed-5392-462d-ba4e-9f78fcb440e2')\"\n",
       "              title=\"Convert this dataframe to an interactive table.\"\n",
       "              style=\"display:none;\">\n",
       "        \n",
       "  <svg xmlns=\"http://www.w3.org/2000/svg\" height=\"24px\"viewBox=\"0 0 24 24\"\n",
       "       width=\"24px\">\n",
       "    <path d=\"M0 0h24v24H0V0z\" fill=\"none\"/>\n",
       "    <path d=\"M18.56 5.44l.94 2.06.94-2.06 2.06-.94-2.06-.94-.94-2.06-.94 2.06-2.06.94zm-11 1L8.5 8.5l.94-2.06 2.06-.94-2.06-.94L8.5 2.5l-.94 2.06-2.06.94zm10 10l.94 2.06.94-2.06 2.06-.94-2.06-.94-.94-2.06-.94 2.06-2.06.94z\"/><path d=\"M17.41 7.96l-1.37-1.37c-.4-.4-.92-.59-1.43-.59-.52 0-1.04.2-1.43.59L10.3 9.45l-7.72 7.72c-.78.78-.78 2.05 0 2.83L4 21.41c.39.39.9.59 1.41.59.51 0 1.02-.2 1.41-.59l7.78-7.78 2.81-2.81c.8-.78.8-2.07 0-2.86zM5.41 20L4 18.59l7.72-7.72 1.47 1.35L5.41 20z\"/>\n",
       "  </svg>\n",
       "      </button>\n",
       "      \n",
       "  <style>\n",
       "    .colab-df-container {\n",
       "      display:flex;\n",
       "      flex-wrap:wrap;\n",
       "      gap: 12px;\n",
       "    }\n",
       "\n",
       "    .colab-df-convert {\n",
       "      background-color: #E8F0FE;\n",
       "      border: none;\n",
       "      border-radius: 50%;\n",
       "      cursor: pointer;\n",
       "      display: none;\n",
       "      fill: #1967D2;\n",
       "      height: 32px;\n",
       "      padding: 0 0 0 0;\n",
       "      width: 32px;\n",
       "    }\n",
       "\n",
       "    .colab-df-convert:hover {\n",
       "      background-color: #E2EBFA;\n",
       "      box-shadow: 0px 1px 2px rgba(60, 64, 67, 0.3), 0px 1px 3px 1px rgba(60, 64, 67, 0.15);\n",
       "      fill: #174EA6;\n",
       "    }\n",
       "\n",
       "    [theme=dark] .colab-df-convert {\n",
       "      background-color: #3B4455;\n",
       "      fill: #D2E3FC;\n",
       "    }\n",
       "\n",
       "    [theme=dark] .colab-df-convert:hover {\n",
       "      background-color: #434B5C;\n",
       "      box-shadow: 0px 1px 3px 1px rgba(0, 0, 0, 0.15);\n",
       "      filter: drop-shadow(0px 1px 2px rgba(0, 0, 0, 0.3));\n",
       "      fill: #FFFFFF;\n",
       "    }\n",
       "  </style>\n",
       "\n",
       "      <script>\n",
       "        const buttonEl =\n",
       "          document.querySelector('#df-eea477ed-5392-462d-ba4e-9f78fcb440e2 button.colab-df-convert');\n",
       "        buttonEl.style.display =\n",
       "          google.colab.kernel.accessAllowed ? 'block' : 'none';\n",
       "\n",
       "        async function convertToInteractive(key) {\n",
       "          const element = document.querySelector('#df-eea477ed-5392-462d-ba4e-9f78fcb440e2');\n",
       "          const dataTable =\n",
       "            await google.colab.kernel.invokeFunction('convertToInteractive',\n",
       "                                                     [key], {});\n",
       "          if (!dataTable) return;\n",
       "\n",
       "          const docLinkHtml = 'Like what you see? Visit the ' +\n",
       "            '<a target=\"_blank\" href=https://colab.research.google.com/notebooks/data_table.ipynb>data table notebook</a>'\n",
       "            + ' to learn more about interactive tables.';\n",
       "          element.innerHTML = '';\n",
       "          dataTable['output_type'] = 'display_data';\n",
       "          await google.colab.output.renderOutput(dataTable, element);\n",
       "          const docLink = document.createElement('div');\n",
       "          docLink.innerHTML = docLinkHtml;\n",
       "          element.appendChild(docLink);\n",
       "        }\n",
       "      </script>\n",
       "    </div>\n",
       "  </div>\n",
       "  "
      ],
      "text/plain": [
       "           Số lượng        Giá bán    Thành tiền      Giảm giá    Chiết khấu  \\\n",
       "count  34779.000000   34779.000000  3.477900e+04  34779.000000  3.477900e+04   \n",
       "mean       1.110729   39135.829092  4.456258e+04     25.216366  1.238876e+03   \n",
       "std        0.732554   23870.933135  6.243903e+04    500.105379  2.634349e+04   \n",
       "min        1.000000       0.000000  0.000000e+00      0.000000  0.000000e+00   \n",
       "25%        1.000000   30000.000000  3.000000e+04      0.000000  0.000000e+00   \n",
       "50%        1.000000   45000.000000  4.500000e+04      0.000000  0.000000e+00   \n",
       "75%        1.000000   55000.000000  5.500000e+04      0.000000  0.000000e+00   \n",
       "max       69.000000  269000.000000  7.350000e+06  23600.000000  4.655000e+06   \n",
       "\n",
       "       Phí hỗ trợ marketing   Phiếu giảm giá  Phí dịch vụ           Thuế  \\\n",
       "count                34779.0    34779.000000      34779.0   34779.000000   \n",
       "mean                     0.0       47.157768          0.0    3936.238161   \n",
       "std                      0.0      588.745284          0.0    4523.782191   \n",
       "min                      0.0        0.000000          0.0       0.000000   \n",
       "25%                      0.0        0.000000          0.0    2727.000000   \n",
       "50%                      0.0        0.000000          0.0    4090.000000   \n",
       "75%                      0.0        0.000000          0.0    5000.000000   \n",
       "max                      0.0    22000.000000          0.0  282273.000000   \n",
       "\n",
       "       Phí ship  Tổng tiền (không bao gồm VAT)  Hoa hồng  \\\n",
       "count   34779.0                   3.477900e+04   34779.0   \n",
       "mean        0.0                   3.936225e+04       0.0   \n",
       "std         0.0                   4.523766e+04       0.0   \n",
       "min         0.0                   0.000000e+00       0.0   \n",
       "25%         0.0                   2.727300e+04       0.0   \n",
       "50%         0.0                   4.090900e+04       0.0   \n",
       "75%         0.0                   5.000000e+04       0.0   \n",
       "max         0.0                   2.822727e+06       0.0   \n",
       "\n",
       "       Tổng tiền (bao gồm hoa hồng)  Tên khách  Số khách  Số điện thoại  \\\n",
       "count                  3.477900e+04        0.0       0.0            0.0   \n",
       "mean                   4.325133e+04        NaN       NaN            NaN   \n",
       "std                    4.975309e+04        NaN       NaN            NaN   \n",
       "min                    0.000000e+00        NaN       NaN            NaN   \n",
       "25%                    3.000000e+04        NaN       NaN            NaN   \n",
       "50%                    4.400000e+04        NaN       NaN            NaN   \n",
       "75%                    5.500000e+04        NaN       NaN            NaN   \n",
       "max                    3.105000e+06        NaN       NaN            NaN   \n",
       "\n",
       "          Tổng tiền  \n",
       "count  3.477900e+04  \n",
       "mean   4.325133e+04  \n",
       "std    4.975309e+04  \n",
       "min    0.000000e+00  \n",
       "25%    3.000000e+04  \n",
       "50%    4.400000e+04  \n",
       "75%    5.500000e+04  \n",
       "max    3.105000e+06  "
      ]
     },
     "execution_count": 6,
     "metadata": {},
     "output_type": "execute_result"
    }
   ],
   "source": [
    "df.describe()"
   ]
  },
  {
   "cell_type": "markdown",
   "metadata": {
    "id": "-kLUmpVM4CvK"
   },
   "source": [
    "> Nhận thấy qua bảng mô tả, các cột: **Phí hỗ trợ marketing**, **Phí dịch vụ**, **Phí ship**, **Hoa hồng** là các cột chứa tất cả đều là giá trị 0 nên bỏ các cột này vì không thể sử dụng để phân tích.\n",
    "\n",
    "> Các cột: **Tên khách**, **Số khách**, **Số điện thoại** chứa giá trị bị thiếu (có thể là để bảo mật thông tin khách hàng) nên ta cũng xóa các cột này khỏi dataframe."
   ]
  },
  {
   "cell_type": "code",
   "execution_count": 7,
   "metadata": {
    "id": "7DC6lwOZ5HoF"
   },
   "outputs": [],
   "source": [
    "df.drop(columns = ['Phí hỗ trợ marketing ', 'Phí dịch vụ', 'Phí ship', 'Hoa hồng', 'Tên khách', 'Số khách', 'Số điện thoại'], axis=1, inplace=True)"
   ]
  },
  {
   "cell_type": "markdown",
   "metadata": {
    "id": "7e8vZTEN5J3S"
   },
   "source": [
    "### Dữ liệu bị thiếu"
   ]
  },
  {
   "cell_type": "code",
   "execution_count": 8,
   "metadata": {
    "colab": {
     "base_uri": "https://localhost:8080/",
     "height": 770
    },
    "id": "-Ee5zg1_tDOK",
    "outputId": "733d8f3b-bf6a-40f8-d9de-4442995a973e"
   },
   "outputs": [
    {
     "data": {
      "text/html": [
       "\n",
       "  <div id=\"df-691c973a-f4b1-43a4-a6a0-4ffafef7ed71\">\n",
       "    <div class=\"colab-df-container\">\n",
       "      <div>\n",
       "<style scoped>\n",
       "    .dataframe tbody tr th:only-of-type {\n",
       "        vertical-align: middle;\n",
       "    }\n",
       "\n",
       "    .dataframe tbody tr th {\n",
       "        vertical-align: top;\n",
       "    }\n",
       "\n",
       "    .dataframe thead th {\n",
       "        text-align: right;\n",
       "    }\n",
       "</style>\n",
       "<table border=\"1\" class=\"dataframe\">\n",
       "  <thead>\n",
       "    <tr style=\"text-align: right;\">\n",
       "      <th></th>\n",
       "      <th>Tổng dữ liệu bị thiếu</th>\n",
       "      <th>Phần trăm dữ liệu bị thiếu</th>\n",
       "    </tr>\n",
       "  </thead>\n",
       "  <tbody>\n",
       "    <tr>\n",
       "      <th>Mã hàng</th>\n",
       "      <td>0</td>\n",
       "      <td>0.000000</td>\n",
       "    </tr>\n",
       "    <tr>\n",
       "      <th>Tên hàng</th>\n",
       "      <td>0</td>\n",
       "      <td>0.000000</td>\n",
       "    </tr>\n",
       "    <tr>\n",
       "      <th>Nhóm món</th>\n",
       "      <td>0</td>\n",
       "      <td>0.000000</td>\n",
       "    </tr>\n",
       "    <tr>\n",
       "      <th>Loại món</th>\n",
       "      <td>0</td>\n",
       "      <td>0.000000</td>\n",
       "    </tr>\n",
       "    <tr>\n",
       "      <th>PTTT</th>\n",
       "      <td>0</td>\n",
       "      <td>0.000000</td>\n",
       "    </tr>\n",
       "    <tr>\n",
       "      <th>Nguồn</th>\n",
       "      <td>0</td>\n",
       "      <td>0.000000</td>\n",
       "    </tr>\n",
       "    <tr>\n",
       "      <th>Hoá đơn</th>\n",
       "      <td>0</td>\n",
       "      <td>0.000000</td>\n",
       "    </tr>\n",
       "    <tr>\n",
       "      <th>Số hoá đơn</th>\n",
       "      <td>0</td>\n",
       "      <td>0.000000</td>\n",
       "    </tr>\n",
       "    <tr>\n",
       "      <th>Ngày</th>\n",
       "      <td>0</td>\n",
       "      <td>0.000000</td>\n",
       "    </tr>\n",
       "    <tr>\n",
       "      <th>Giờ</th>\n",
       "      <td>0</td>\n",
       "      <td>0.000000</td>\n",
       "    </tr>\n",
       "    <tr>\n",
       "      <th>Số lượng</th>\n",
       "      <td>0</td>\n",
       "      <td>0.000000</td>\n",
       "    </tr>\n",
       "    <tr>\n",
       "      <th>Đơn vị tính</th>\n",
       "      <td>0</td>\n",
       "      <td>0.000000</td>\n",
       "    </tr>\n",
       "    <tr>\n",
       "      <th>Giá bán</th>\n",
       "      <td>0</td>\n",
       "      <td>0.000000</td>\n",
       "    </tr>\n",
       "    <tr>\n",
       "      <th>Thành tiền</th>\n",
       "      <td>0</td>\n",
       "      <td>0.000000</td>\n",
       "    </tr>\n",
       "    <tr>\n",
       "      <th>Giảm giá</th>\n",
       "      <td>0</td>\n",
       "      <td>0.000000</td>\n",
       "    </tr>\n",
       "    <tr>\n",
       "      <th>Chiết khấu</th>\n",
       "      <td>0</td>\n",
       "      <td>0.000000</td>\n",
       "    </tr>\n",
       "    <tr>\n",
       "      <th>Phiếu giảm giá</th>\n",
       "      <td>0</td>\n",
       "      <td>0.000000</td>\n",
       "    </tr>\n",
       "    <tr>\n",
       "      <th>Thuế</th>\n",
       "      <td>0</td>\n",
       "      <td>0.000000</td>\n",
       "    </tr>\n",
       "    <tr>\n",
       "      <th>Tổng tiền (không bao gồm VAT)</th>\n",
       "      <td>0</td>\n",
       "      <td>0.000000</td>\n",
       "    </tr>\n",
       "    <tr>\n",
       "      <th>Tổng tiền (bao gồm hoa hồng)</th>\n",
       "      <td>0</td>\n",
       "      <td>0.000000</td>\n",
       "    </tr>\n",
       "    <tr>\n",
       "      <th>Tên CTKM</th>\n",
       "      <td>31864</td>\n",
       "      <td>91.618505</td>\n",
       "    </tr>\n",
       "    <tr>\n",
       "      <th>Mã voucher</th>\n",
       "      <td>31999</td>\n",
       "      <td>92.006671</td>\n",
       "    </tr>\n",
       "    <tr>\n",
       "      <th>Tổng tiền</th>\n",
       "      <td>0</td>\n",
       "      <td>0.000000</td>\n",
       "    </tr>\n",
       "  </tbody>\n",
       "</table>\n",
       "</div>\n",
       "      <button class=\"colab-df-convert\" onclick=\"convertToInteractive('df-691c973a-f4b1-43a4-a6a0-4ffafef7ed71')\"\n",
       "              title=\"Convert this dataframe to an interactive table.\"\n",
       "              style=\"display:none;\">\n",
       "        \n",
       "  <svg xmlns=\"http://www.w3.org/2000/svg\" height=\"24px\"viewBox=\"0 0 24 24\"\n",
       "       width=\"24px\">\n",
       "    <path d=\"M0 0h24v24H0V0z\" fill=\"none\"/>\n",
       "    <path d=\"M18.56 5.44l.94 2.06.94-2.06 2.06-.94-2.06-.94-.94-2.06-.94 2.06-2.06.94zm-11 1L8.5 8.5l.94-2.06 2.06-.94-2.06-.94L8.5 2.5l-.94 2.06-2.06.94zm10 10l.94 2.06.94-2.06 2.06-.94-2.06-.94-.94-2.06-.94 2.06-2.06.94z\"/><path d=\"M17.41 7.96l-1.37-1.37c-.4-.4-.92-.59-1.43-.59-.52 0-1.04.2-1.43.59L10.3 9.45l-7.72 7.72c-.78.78-.78 2.05 0 2.83L4 21.41c.39.39.9.59 1.41.59.51 0 1.02-.2 1.41-.59l7.78-7.78 2.81-2.81c.8-.78.8-2.07 0-2.86zM5.41 20L4 18.59l7.72-7.72 1.47 1.35L5.41 20z\"/>\n",
       "  </svg>\n",
       "      </button>\n",
       "      \n",
       "  <style>\n",
       "    .colab-df-container {\n",
       "      display:flex;\n",
       "      flex-wrap:wrap;\n",
       "      gap: 12px;\n",
       "    }\n",
       "\n",
       "    .colab-df-convert {\n",
       "      background-color: #E8F0FE;\n",
       "      border: none;\n",
       "      border-radius: 50%;\n",
       "      cursor: pointer;\n",
       "      display: none;\n",
       "      fill: #1967D2;\n",
       "      height: 32px;\n",
       "      padding: 0 0 0 0;\n",
       "      width: 32px;\n",
       "    }\n",
       "\n",
       "    .colab-df-convert:hover {\n",
       "      background-color: #E2EBFA;\n",
       "      box-shadow: 0px 1px 2px rgba(60, 64, 67, 0.3), 0px 1px 3px 1px rgba(60, 64, 67, 0.15);\n",
       "      fill: #174EA6;\n",
       "    }\n",
       "\n",
       "    [theme=dark] .colab-df-convert {\n",
       "      background-color: #3B4455;\n",
       "      fill: #D2E3FC;\n",
       "    }\n",
       "\n",
       "    [theme=dark] .colab-df-convert:hover {\n",
       "      background-color: #434B5C;\n",
       "      box-shadow: 0px 1px 3px 1px rgba(0, 0, 0, 0.15);\n",
       "      filter: drop-shadow(0px 1px 2px rgba(0, 0, 0, 0.3));\n",
       "      fill: #FFFFFF;\n",
       "    }\n",
       "  </style>\n",
       "\n",
       "      <script>\n",
       "        const buttonEl =\n",
       "          document.querySelector('#df-691c973a-f4b1-43a4-a6a0-4ffafef7ed71 button.colab-df-convert');\n",
       "        buttonEl.style.display =\n",
       "          google.colab.kernel.accessAllowed ? 'block' : 'none';\n",
       "\n",
       "        async function convertToInteractive(key) {\n",
       "          const element = document.querySelector('#df-691c973a-f4b1-43a4-a6a0-4ffafef7ed71');\n",
       "          const dataTable =\n",
       "            await google.colab.kernel.invokeFunction('convertToInteractive',\n",
       "                                                     [key], {});\n",
       "          if (!dataTable) return;\n",
       "\n",
       "          const docLinkHtml = 'Like what you see? Visit the ' +\n",
       "            '<a target=\"_blank\" href=https://colab.research.google.com/notebooks/data_table.ipynb>data table notebook</a>'\n",
       "            + ' to learn more about interactive tables.';\n",
       "          element.innerHTML = '';\n",
       "          dataTable['output_type'] = 'display_data';\n",
       "          await google.colab.output.renderOutput(dataTable, element);\n",
       "          const docLink = document.createElement('div');\n",
       "          docLink.innerHTML = docLinkHtml;\n",
       "          element.appendChild(docLink);\n",
       "        }\n",
       "      </script>\n",
       "    </div>\n",
       "  </div>\n",
       "  "
      ],
      "text/plain": [
       "                               Tổng dữ liệu bị thiếu  \\\n",
       "Mã hàng                                            0   \n",
       "Tên hàng                                           0   \n",
       "Nhóm món                                           0   \n",
       "Loại món                                           0   \n",
       "PTTT                                               0   \n",
       "Nguồn                                              0   \n",
       "Hoá đơn                                            0   \n",
       "Số hoá đơn                                         0   \n",
       "Ngày                                               0   \n",
       "Giờ                                                0   \n",
       "Số lượng                                           0   \n",
       "Đơn vị tính                                        0   \n",
       "Giá bán                                            0   \n",
       "Thành tiền                                         0   \n",
       "Giảm giá                                           0   \n",
       "Chiết khấu                                         0   \n",
       "Phiếu giảm giá                                     0   \n",
       "Thuế                                               0   \n",
       "Tổng tiền (không bao gồm VAT)                      0   \n",
       "Tổng tiền (bao gồm hoa hồng)                       0   \n",
       "Tên CTKM                                       31864   \n",
       "Mã voucher                                     31999   \n",
       "Tổng tiền                                          0   \n",
       "\n",
       "                               Phần trăm dữ liệu bị thiếu  \n",
       "Mã hàng                                          0.000000  \n",
       "Tên hàng                                         0.000000  \n",
       "Nhóm món                                         0.000000  \n",
       "Loại món                                         0.000000  \n",
       "PTTT                                             0.000000  \n",
       "Nguồn                                            0.000000  \n",
       "Hoá đơn                                          0.000000  \n",
       "Số hoá đơn                                       0.000000  \n",
       "Ngày                                             0.000000  \n",
       "Giờ                                              0.000000  \n",
       "Số lượng                                         0.000000  \n",
       "Đơn vị tính                                      0.000000  \n",
       "Giá bán                                          0.000000  \n",
       "Thành tiền                                       0.000000  \n",
       "Giảm giá                                         0.000000  \n",
       "Chiết khấu                                       0.000000  \n",
       "Phiếu giảm giá                                   0.000000  \n",
       "Thuế                                             0.000000  \n",
       "Tổng tiền (không bao gồm VAT)                    0.000000  \n",
       "Tổng tiền (bao gồm hoa hồng)                     0.000000  \n",
       "Tên CTKM                                        91.618505  \n",
       "Mã voucher                                      92.006671  \n",
       "Tổng tiền                                        0.000000  "
      ]
     },
     "execution_count": 8,
     "metadata": {},
     "output_type": "execute_result"
    }
   ],
   "source": [
    "missing_data = pd.DataFrame({'Tổng dữ liệu bị thiếu': df.isnull().sum(), 'Phần trăm dữ liệu bị thiếu': (df.isnull().sum()/df.shape[0])*100})\n",
    "missing_data"
   ]
  },
  {
   "cell_type": "markdown",
   "metadata": {
    "id": "lxOlLbXswaLn"
   },
   "source": [
    "> Có 2 cột chứa dữ liệu bị thiếu là **Tên CTKM**, **Mã voucher**.\n",
    "\n",
    "> **Tên CTKM**, **Mã voucher** ít được sử dụng trong cửa hàng nên chứa nhiều dữ liệu thiếu. Các cột này ta sẽ không dùng tới để phân tích nên xóa đi."
   ]
  },
  {
   "cell_type": "code",
   "execution_count": 9,
   "metadata": {
    "id": "m_R3YNt43DB-"
   },
   "outputs": [],
   "source": [
    "df.drop(columns = ['Tên CTKM', 'Mã voucher'], axis=1, inplace=True)"
   ]
  },
  {
   "cell_type": "markdown",
   "metadata": {
    "id": "OIHdakpuAp-1"
   },
   "source": [
    "# Phân tích dữ liệu"
   ]
  },
  {
   "cell_type": "code",
   "execution_count": 10,
   "metadata": {
    "colab": {
     "base_uri": "https://localhost:8080/",
     "height": 470
    },
    "id": "jQCdpNkaTbqh",
    "outputId": "2d673452-1de5-4ef8-d6f0-691039e61977"
   },
   "outputs": [
    {
     "data": {
      "text/html": [
       "\n",
       "  <div id=\"df-923ba52b-1e94-4c8b-913b-ad0fae29cda3\">\n",
       "    <div class=\"colab-df-container\">\n",
       "      <div>\n",
       "<style scoped>\n",
       "    .dataframe tbody tr th:only-of-type {\n",
       "        vertical-align: middle;\n",
       "    }\n",
       "\n",
       "    .dataframe tbody tr th {\n",
       "        vertical-align: top;\n",
       "    }\n",
       "\n",
       "    .dataframe thead th {\n",
       "        text-align: right;\n",
       "    }\n",
       "</style>\n",
       "<table border=\"1\" class=\"dataframe\">\n",
       "  <thead>\n",
       "    <tr style=\"text-align: right;\">\n",
       "      <th></th>\n",
       "      <th>Mã hàng</th>\n",
       "      <th>Tên hàng</th>\n",
       "      <th>Nhóm món</th>\n",
       "      <th>Loại món</th>\n",
       "      <th>PTTT</th>\n",
       "      <th>Nguồn</th>\n",
       "      <th>Hoá đơn</th>\n",
       "      <th>Số hoá đơn</th>\n",
       "      <th>Ngày</th>\n",
       "      <th>Giờ</th>\n",
       "      <th>...</th>\n",
       "      <th>Đơn vị tính</th>\n",
       "      <th>Giá bán</th>\n",
       "      <th>Thành tiền</th>\n",
       "      <th>Giảm giá</th>\n",
       "      <th>Chiết khấu</th>\n",
       "      <th>Phiếu giảm giá</th>\n",
       "      <th>Thuế</th>\n",
       "      <th>Tổng tiền (không bao gồm VAT)</th>\n",
       "      <th>Tổng tiền (bao gồm hoa hồng)</th>\n",
       "      <th>Tổng tiền</th>\n",
       "    </tr>\n",
       "  </thead>\n",
       "  <tbody>\n",
       "    <tr>\n",
       "      <th>0</th>\n",
       "      <td>ITEM-QZ78</td>\n",
       "      <td>LATTE CARAMEL MACCHIATO</td>\n",
       "      <td>COFFEE</td>\n",
       "      <td>thức uống</td>\n",
       "      <td>ATM</td>\n",
       "      <td>TẠI CHỖ</td>\n",
       "      <td>8J8BB2J5K4V2A4L9I281A57</td>\n",
       "      <td>50500002</td>\n",
       "      <td>02/03/2023</td>\n",
       "      <td>07:24</td>\n",
       "      <td>...</td>\n",
       "      <td>LY</td>\n",
       "      <td>59000</td>\n",
       "      <td>59000.0</td>\n",
       "      <td>0</td>\n",
       "      <td>0</td>\n",
       "      <td>0</td>\n",
       "      <td>5364</td>\n",
       "      <td>53636.0</td>\n",
       "      <td>59000</td>\n",
       "      <td>59000</td>\n",
       "    </tr>\n",
       "    <tr>\n",
       "      <th>1</th>\n",
       "      <td>ITEM-PCYI</td>\n",
       "      <td>CAPPUCCINO</td>\n",
       "      <td>COFFEE</td>\n",
       "      <td>thức uống</td>\n",
       "      <td>ATM</td>\n",
       "      <td>TẠI CHỖ</td>\n",
       "      <td>8J8BB2J5K4V2A4L9I281A57</td>\n",
       "      <td>50500002</td>\n",
       "      <td>02/03/2023</td>\n",
       "      <td>07:24</td>\n",
       "      <td>...</td>\n",
       "      <td>LY</td>\n",
       "      <td>55000</td>\n",
       "      <td>55000.0</td>\n",
       "      <td>0</td>\n",
       "      <td>0</td>\n",
       "      <td>0</td>\n",
       "      <td>5000</td>\n",
       "      <td>50000.0</td>\n",
       "      <td>55000</td>\n",
       "      <td>55000</td>\n",
       "    </tr>\n",
       "    <tr>\n",
       "      <th>2</th>\n",
       "      <td>ITEM-R6OI</td>\n",
       "      <td>COLD</td>\n",
       "      <td>EXTRA</td>\n",
       "      <td>-</td>\n",
       "      <td>ATM</td>\n",
       "      <td>TẠI CHỖ</td>\n",
       "      <td>8J8BB2J5K4V2A4L9I281A57</td>\n",
       "      <td>50500002</td>\n",
       "      <td>02/03/2023</td>\n",
       "      <td>07:24</td>\n",
       "      <td>...</td>\n",
       "      <td>PHAN</td>\n",
       "      <td>0</td>\n",
       "      <td>0.0</td>\n",
       "      <td>0</td>\n",
       "      <td>0</td>\n",
       "      <td>0</td>\n",
       "      <td>0</td>\n",
       "      <td>0.0</td>\n",
       "      <td>0</td>\n",
       "      <td>0</td>\n",
       "    </tr>\n",
       "    <tr>\n",
       "      <th>3</th>\n",
       "      <td>ITEM-HSCI</td>\n",
       "      <td>Croissant bơ tỏi</td>\n",
       "      <td>CAKE</td>\n",
       "      <td>đồ ăn</td>\n",
       "      <td>ATM</td>\n",
       "      <td>TẠI CHỖ</td>\n",
       "      <td>8J8BB2J5K4V2A4L9I281A57</td>\n",
       "      <td>50500002</td>\n",
       "      <td>02/03/2023</td>\n",
       "      <td>07:24</td>\n",
       "      <td>...</td>\n",
       "      <td>PHAN</td>\n",
       "      <td>39000</td>\n",
       "      <td>39000.0</td>\n",
       "      <td>0</td>\n",
       "      <td>0</td>\n",
       "      <td>0</td>\n",
       "      <td>3545</td>\n",
       "      <td>35455.0</td>\n",
       "      <td>39000</td>\n",
       "      <td>39000</td>\n",
       "    </tr>\n",
       "    <tr>\n",
       "      <th>4</th>\n",
       "      <td>ITEM-15VK</td>\n",
       "      <td>Croissant lava chà bông cay</td>\n",
       "      <td>CAKE</td>\n",
       "      <td>đồ ăn</td>\n",
       "      <td>ATM</td>\n",
       "      <td>TẠI CHỖ</td>\n",
       "      <td>8J8BB2J5K4V2A4L9I281A57</td>\n",
       "      <td>50500002</td>\n",
       "      <td>02/03/2023</td>\n",
       "      <td>07:24</td>\n",
       "      <td>...</td>\n",
       "      <td>PHAN</td>\n",
       "      <td>45000</td>\n",
       "      <td>45000.0</td>\n",
       "      <td>0</td>\n",
       "      <td>0</td>\n",
       "      <td>0</td>\n",
       "      <td>4091</td>\n",
       "      <td>40909.0</td>\n",
       "      <td>45000</td>\n",
       "      <td>45000</td>\n",
       "    </tr>\n",
       "  </tbody>\n",
       "</table>\n",
       "<p>5 rows × 21 columns</p>\n",
       "</div>\n",
       "      <button class=\"colab-df-convert\" onclick=\"convertToInteractive('df-923ba52b-1e94-4c8b-913b-ad0fae29cda3')\"\n",
       "              title=\"Convert this dataframe to an interactive table.\"\n",
       "              style=\"display:none;\">\n",
       "        \n",
       "  <svg xmlns=\"http://www.w3.org/2000/svg\" height=\"24px\"viewBox=\"0 0 24 24\"\n",
       "       width=\"24px\">\n",
       "    <path d=\"M0 0h24v24H0V0z\" fill=\"none\"/>\n",
       "    <path d=\"M18.56 5.44l.94 2.06.94-2.06 2.06-.94-2.06-.94-.94-2.06-.94 2.06-2.06.94zm-11 1L8.5 8.5l.94-2.06 2.06-.94-2.06-.94L8.5 2.5l-.94 2.06-2.06.94zm10 10l.94 2.06.94-2.06 2.06-.94-2.06-.94-.94-2.06-.94 2.06-2.06.94z\"/><path d=\"M17.41 7.96l-1.37-1.37c-.4-.4-.92-.59-1.43-.59-.52 0-1.04.2-1.43.59L10.3 9.45l-7.72 7.72c-.78.78-.78 2.05 0 2.83L4 21.41c.39.39.9.59 1.41.59.51 0 1.02-.2 1.41-.59l7.78-7.78 2.81-2.81c.8-.78.8-2.07 0-2.86zM5.41 20L4 18.59l7.72-7.72 1.47 1.35L5.41 20z\"/>\n",
       "  </svg>\n",
       "      </button>\n",
       "      \n",
       "  <style>\n",
       "    .colab-df-container {\n",
       "      display:flex;\n",
       "      flex-wrap:wrap;\n",
       "      gap: 12px;\n",
       "    }\n",
       "\n",
       "    .colab-df-convert {\n",
       "      background-color: #E8F0FE;\n",
       "      border: none;\n",
       "      border-radius: 50%;\n",
       "      cursor: pointer;\n",
       "      display: none;\n",
       "      fill: #1967D2;\n",
       "      height: 32px;\n",
       "      padding: 0 0 0 0;\n",
       "      width: 32px;\n",
       "    }\n",
       "\n",
       "    .colab-df-convert:hover {\n",
       "      background-color: #E2EBFA;\n",
       "      box-shadow: 0px 1px 2px rgba(60, 64, 67, 0.3), 0px 1px 3px 1px rgba(60, 64, 67, 0.15);\n",
       "      fill: #174EA6;\n",
       "    }\n",
       "\n",
       "    [theme=dark] .colab-df-convert {\n",
       "      background-color: #3B4455;\n",
       "      fill: #D2E3FC;\n",
       "    }\n",
       "\n",
       "    [theme=dark] .colab-df-convert:hover {\n",
       "      background-color: #434B5C;\n",
       "      box-shadow: 0px 1px 3px 1px rgba(0, 0, 0, 0.15);\n",
       "      filter: drop-shadow(0px 1px 2px rgba(0, 0, 0, 0.3));\n",
       "      fill: #FFFFFF;\n",
       "    }\n",
       "  </style>\n",
       "\n",
       "      <script>\n",
       "        const buttonEl =\n",
       "          document.querySelector('#df-923ba52b-1e94-4c8b-913b-ad0fae29cda3 button.colab-df-convert');\n",
       "        buttonEl.style.display =\n",
       "          google.colab.kernel.accessAllowed ? 'block' : 'none';\n",
       "\n",
       "        async function convertToInteractive(key) {\n",
       "          const element = document.querySelector('#df-923ba52b-1e94-4c8b-913b-ad0fae29cda3');\n",
       "          const dataTable =\n",
       "            await google.colab.kernel.invokeFunction('convertToInteractive',\n",
       "                                                     [key], {});\n",
       "          if (!dataTable) return;\n",
       "\n",
       "          const docLinkHtml = 'Like what you see? Visit the ' +\n",
       "            '<a target=\"_blank\" href=https://colab.research.google.com/notebooks/data_table.ipynb>data table notebook</a>'\n",
       "            + ' to learn more about interactive tables.';\n",
       "          element.innerHTML = '';\n",
       "          dataTable['output_type'] = 'display_data';\n",
       "          await google.colab.output.renderOutput(dataTable, element);\n",
       "          const docLink = document.createElement('div');\n",
       "          docLink.innerHTML = docLinkHtml;\n",
       "          element.appendChild(docLink);\n",
       "        }\n",
       "      </script>\n",
       "    </div>\n",
       "  </div>\n",
       "  "
      ],
      "text/plain": [
       "     Mã hàng                     Tên hàng Nhóm món   Loại món PTTT    Nguồn  \\\n",
       "0  ITEM-QZ78      LATTE CARAMEL MACCHIATO   COFFEE  thức uống  ATM  TẠI CHỖ   \n",
       "1  ITEM-PCYI                   CAPPUCCINO   COFFEE  thức uống  ATM  TẠI CHỖ   \n",
       "2  ITEM-R6OI                         COLD    EXTRA          -  ATM  TẠI CHỖ   \n",
       "3  ITEM-HSCI             Croissant bơ tỏi     CAKE      đồ ăn  ATM  TẠI CHỖ   \n",
       "4  ITEM-15VK  Croissant lava chà bông cay     CAKE      đồ ăn  ATM  TẠI CHỖ   \n",
       "\n",
       "                   Hoá đơn Số hoá đơn        Ngày    Giờ  ...  Đơn vị tính  \\\n",
       "0  8J8BB2J5K4V2A4L9I281A57   50500002  02/03/2023  07:24  ...           LY   \n",
       "1  8J8BB2J5K4V2A4L9I281A57   50500002  02/03/2023  07:24  ...           LY   \n",
       "2  8J8BB2J5K4V2A4L9I281A57   50500002  02/03/2023  07:24  ...         PHAN   \n",
       "3  8J8BB2J5K4V2A4L9I281A57   50500002  02/03/2023  07:24  ...         PHAN   \n",
       "4  8J8BB2J5K4V2A4L9I281A57   50500002  02/03/2023  07:24  ...         PHAN   \n",
       "\n",
       "  Giá bán  Thành tiền  Giảm giá  Chiết khấu  Phiếu giảm giá  Thuế  \\\n",
       "0   59000     59000.0         0           0               0  5364   \n",
       "1   55000     55000.0         0           0               0  5000   \n",
       "2       0         0.0         0           0               0     0   \n",
       "3   39000     39000.0         0           0               0  3545   \n",
       "4   45000     45000.0         0           0               0  4091   \n",
       "\n",
       "   Tổng tiền (không bao gồm VAT)  Tổng tiền (bao gồm hoa hồng)  Tổng tiền  \n",
       "0                        53636.0                         59000      59000  \n",
       "1                        50000.0                         55000      55000  \n",
       "2                            0.0                             0          0  \n",
       "3                        35455.0                         39000      39000  \n",
       "4                        40909.0                         45000      45000  \n",
       "\n",
       "[5 rows x 21 columns]"
      ]
     },
     "execution_count": 10,
     "metadata": {},
     "output_type": "execute_result"
    }
   ],
   "source": [
    "df.head()"
   ]
  },
  {
   "cell_type": "markdown",
   "metadata": {
    "id": "Y1_OT-K3AexH"
   },
   "source": [
    "***Top 10 mặt hàng bán chạy nhất của quán***"
   ]
  },
  {
   "cell_type": "code",
   "execution_count": 11,
   "metadata": {
    "colab": {
     "base_uri": "https://localhost:8080/"
    },
    "id": "4KWkmLzqAEAt",
    "outputId": "41ac4193-a36f-4bae-88d6-60c9c7edc930"
   },
   "outputs": [
    {
     "data": {
      "text/plain": [
       "\"CÀ PHÊ SỮA\" ĐÁ                           3768\n",
       "\"CÀ PHÊ ĐEN\" ĐÁ                           2761\n",
       "\"BẠC XỈU\" ĐÁ                              2382\n",
       "BỮA TRƯA NO NÊ                            2330\n",
       "TRÀ TẮC XÍ MUỘI                           1584\n",
       "TRÀ CHANH HẠT CHIA (CHIA LEMON TEA)       1124\n",
       "TRÀ CAM ĐÀO (PEACH SUNRISE TEA)           1106\n",
       "CÀ PHÊ SỮA BÉO - 50/50 CREAMY COFFEE      1018\n",
       "BÁNH MÌ XÍU MẠI                            919\n",
       "TRÀ LÀI CHANH VÀNG (LEMON JASMINE TEA)     751\n",
       "Name: Tên hàng, dtype: int64"
      ]
     },
     "execution_count": 11,
     "metadata": {},
     "output_type": "execute_result"
    }
   ],
   "source": [
    "top10_best = df['Tên hàng'].value_counts().head(10)\n",
    "top10_best"
   ]
  },
  {
   "cell_type": "markdown",
   "metadata": {
    "id": "nH71XgVvA8vA"
   },
   "source": [
    "***Top 10 mặt hàng bán ít nhất của quán***"
   ]
  },
  {
   "cell_type": "code",
   "execution_count": 12,
   "metadata": {
    "colab": {
     "base_uri": "https://localhost:8080/"
    },
    "id": "kaRWF1XKAy-7",
    "outputId": "0226d46c-f0d0-4d19-8b0b-cf95b45f90da"
   },
   "outputs": [
    {
     "data": {
      "text/plain": [
       "\"CÀ PHÊ LATTE YẾN MẠCH\" ĐÁ      2\n",
       "MÌ THÊM (MÌ XÀO)                1\n",
       "\"CÀ PHÊ LATTE YẾN MẠCH\" NÓNG    1\n",
       "MOUSSE CORN                     1\n",
       "CALAMANADE ICED-BLENDED         1\n",
       "Phong workshop 200k             1\n",
       "MOCHA                           1\n",
       "PHÒNG BOOKING                   1\n",
       "NUOC SUOI LAVIE                 1\n",
       "ESPRESSO                        1\n",
       "Name: Tên hàng, dtype: int64"
      ]
     },
     "execution_count": 12,
     "metadata": {},
     "output_type": "execute_result"
    }
   ],
   "source": [
    "top10_low = df['Tên hàng'].value_counts().tail(10)\n",
    "top10_low"
   ]
  },
  {
   "cell_type": "markdown",
   "metadata": {
    "id": "5Dz0H5h9TzKx"
   },
   "source": [
    "***Tổng doanh thu theo ngày***"
   ]
  },
  {
   "cell_type": "code",
   "execution_count": 13,
   "metadata": {
    "colab": {
     "base_uri": "https://localhost:8080/"
    },
    "id": "ZVLCVZNeT1ga",
    "outputId": "9fec69e5-4f8e-4818-ac75-35baa6737fc5"
   },
   "outputs": [
    {
     "data": {
      "text/plain": [
       "Ngày cụ thể\n",
       "2023-03-02    13963200\n",
       "2023-03-03    13200800\n",
       "2023-03-04    15544000\n",
       "2023-03-05     9883400\n",
       "2023-03-06    10578250\n",
       "                ...   \n",
       "2023-06-22    13797800\n",
       "2023-06-23    13525900\n",
       "2023-06-24     8998400\n",
       "2023-06-25    11071800\n",
       "2023-06-26    13695800\n",
       "Name: Tổng tiền, Length: 114, dtype: int64"
      ]
     },
     "execution_count": 13,
     "metadata": {},
     "output_type": "execute_result"
    }
   ],
   "source": [
    "df['Ngày'] = pd.to_datetime(df['Ngày'], format='%d/%m/%Y')\n",
    "df['Ngày cụ thể'] = df['Ngày'].dt.date\n",
    "dately_revenue = df.groupby('Ngày cụ thể')['Tổng tiền'].sum()\n",
    "dately_revenue"
   ]
  },
  {
   "cell_type": "code",
   "execution_count": 14,
   "metadata": {
    "colab": {
     "base_uri": "https://localhost:8080/"
    },
    "id": "513iTphUURwc",
    "outputId": "b256a0ca-f6d9-4ca0-e48e-8eab8254839f"
   },
   "outputs": [
    {
     "data": {
      "text/plain": [
       "Ngày cụ thể\n",
       "2023-03-02    13963200\n",
       "2023-03-03    13200800\n",
       "2023-03-04    15544000\n",
       "2023-03-05     9883400\n",
       "2023-03-06    10578250\n",
       "2023-03-07    14006550\n",
       "2023-03-08    44220950\n",
       "2023-03-09     8757900\n",
       "2023-03-10    11276200\n",
       "2023-03-11    11555800\n",
       "2023-03-12    13341400\n",
       "2023-03-13    11380000\n",
       "2023-03-14    12019650\n",
       "2023-03-15    11023400\n",
       "2023-03-16    12306700\n",
       "2023-03-17    12849600\n",
       "2023-03-18    10859200\n",
       "2023-03-19     9692600\n",
       "2023-03-20    11696100\n",
       "2023-03-21    11760900\n",
       "2023-03-22    12418600\n",
       "2023-03-23    11646200\n",
       "2023-03-24    13948800\n",
       "2023-03-25    16262200\n",
       "2023-03-26     9889950\n",
       "2023-03-27    11285600\n",
       "2023-03-28    11675600\n",
       "2023-03-29    12885200\n",
       "2023-03-30    17391950\n",
       "2023-03-31    13998800\n",
       "Name: Tổng tiền, dtype: int64"
      ]
     },
     "execution_count": 14,
     "metadata": {},
     "output_type": "execute_result"
    }
   ],
   "source": [
    "#Các ngày trong tháng 3\n",
    "march_revenue = dately_revenue[dately_revenue.index.to_series().apply(lambda x: x.month) == 3]\n",
    "march_revenue"
   ]
  },
  {
   "cell_type": "code",
   "execution_count": 15,
   "metadata": {
    "colab": {
     "base_uri": "https://localhost:8080/"
    },
    "id": "LPBGZO0svQNk",
    "outputId": "810c23d2-c86c-4f80-988d-cc22e78cc051"
   },
   "outputs": [
    {
     "data": {
      "text/plain": [
       "Ngày cụ thể\n",
       "2023-04-01    10349400\n",
       "2023-04-02     9295000\n",
       "2023-04-03    13697600\n",
       "2023-04-04    14402800\n",
       "2023-04-05    13437650\n",
       "2023-04-06    11110600\n",
       "2023-04-07    12179200\n",
       "2023-04-08    11962600\n",
       "2023-04-09     9281400\n",
       "2023-04-10    10208100\n",
       "2023-04-11    13379200\n",
       "2023-04-12    14818000\n",
       "2023-04-13    12159400\n",
       "2023-04-14    13031600\n",
       "2023-04-15     9455400\n",
       "2023-04-16     9337500\n",
       "2023-04-17    12654600\n",
       "2023-04-18    13473400\n",
       "2023-04-19    14686600\n",
       "2023-04-20    15957400\n",
       "2023-04-21    13311800\n",
       "2023-04-22    14380000\n",
       "2023-04-23    11459000\n",
       "2023-04-24    16542200\n",
       "2023-04-25    15821600\n",
       "2023-04-26    13647600\n",
       "2023-04-27    13455500\n",
       "2023-04-28    12451700\n",
       "Name: Tổng tiền, dtype: int64"
      ]
     },
     "execution_count": 15,
     "metadata": {},
     "output_type": "execute_result"
    }
   ],
   "source": [
    "#Các ngày trong tháng 4\n",
    "april_revenue = dately_revenue[dately_revenue.index.to_series().apply(lambda x: x.month) == 4]\n",
    "april_revenue"
   ]
  },
  {
   "cell_type": "code",
   "execution_count": 16,
   "metadata": {
    "colab": {
     "base_uri": "https://localhost:8080/"
    },
    "id": "E3QE8EOCvRSn",
    "outputId": "08bdd16b-8868-40be-a5d3-2aeca11d24f8"
   },
   "outputs": [
    {
     "data": {
      "text/plain": [
       "Ngày cụ thể\n",
       "2023-05-02     6936600\n",
       "2023-05-03     6058800\n",
       "2023-05-04    12722400\n",
       "2023-05-05    14011400\n",
       "2023-05-06     8181000\n",
       "2023-05-07    11556600\n",
       "2023-05-08    14839400\n",
       "2023-05-09    14245800\n",
       "2023-05-10    15131300\n",
       "2023-05-11    16441400\n",
       "2023-05-12    13985600\n",
       "2023-05-13    17778000\n",
       "2023-05-14     9885500\n",
       "2023-05-15    13581900\n",
       "2023-05-16    12955400\n",
       "2023-05-17    14703600\n",
       "2023-05-18    13982900\n",
       "2023-05-19    13226900\n",
       "2023-05-20    13533300\n",
       "2023-05-21     7514000\n",
       "2023-05-22    14615550\n",
       "2023-05-23    14952300\n",
       "2023-05-24    13443900\n",
       "2023-05-25    14767600\n",
       "2023-05-26    14366300\n",
       "2023-05-27     8535650\n",
       "2023-05-28    14106100\n",
       "2023-05-29    14984200\n",
       "2023-05-30    12985700\n",
       "2023-05-31    14485300\n",
       "Name: Tổng tiền, dtype: int64"
      ]
     },
     "execution_count": 16,
     "metadata": {},
     "output_type": "execute_result"
    }
   ],
   "source": [
    "#Các ngày trong tháng 5\n",
    "may_revenue = dately_revenue[dately_revenue.index.to_series().apply(lambda x: x.month) == 5]\n",
    "may_revenue"
   ]
  },
  {
   "cell_type": "code",
   "execution_count": 17,
   "metadata": {
    "colab": {
     "base_uri": "https://localhost:8080/"
    },
    "id": "jNL-kIeGvRor",
    "outputId": "87dbbb3f-06d0-464d-edc9-55da248b0152"
   },
   "outputs": [
    {
     "data": {
      "text/plain": [
       "Ngày cụ thể\n",
       "2023-06-01    17863000\n",
       "2023-06-02    17449250\n",
       "2023-06-03     9059600\n",
       "2023-06-04     9103200\n",
       "2023-06-05    16392550\n",
       "2023-06-06    13219900\n",
       "2023-06-07    15750600\n",
       "2023-06-08    12659100\n",
       "2023-06-09    13735000\n",
       "2023-06-10    14882990\n",
       "2023-06-11     9952400\n",
       "2023-06-12    14554100\n",
       "2023-06-13    16528890\n",
       "2023-06-14    15817200\n",
       "2023-06-15    15021500\n",
       "2023-06-16    16061900\n",
       "2023-06-17    10713100\n",
       "2023-06-18    10175700\n",
       "2023-06-19    13400900\n",
       "2023-06-20    16846400\n",
       "2023-06-21    18180300\n",
       "2023-06-22    13797800\n",
       "2023-06-23    13525900\n",
       "2023-06-24     8998400\n",
       "2023-06-25    11071800\n",
       "2023-06-26    13695800\n",
       "Name: Tổng tiền, dtype: int64"
      ]
     },
     "execution_count": 17,
     "metadata": {},
     "output_type": "execute_result"
    }
   ],
   "source": [
    "#Các ngày trong tháng 6\n",
    "june_revenue = dately_revenue[dately_revenue.index.to_series().apply(lambda x: x.month) == 6]\n",
    "june_revenue"
   ]
  },
  {
   "cell_type": "markdown",
   "metadata": {
    "id": "_RWOLCCsJJvx"
   },
   "source": [
    "***Tổng doanh thu theo tháng***"
   ]
  },
  {
   "cell_type": "code",
   "execution_count": 18,
   "metadata": {
    "colab": {
     "base_uri": "https://localhost:8080/"
    },
    "id": "-LJ2nbiAI7nX",
    "outputId": "a9daa1b7-3bf8-4b23-a61b-ef5db927f85b"
   },
   "outputs": [
    {
     "data": {
      "text/plain": [
       "Tháng\n",
       "3    401319500\n",
       "4    355946850\n",
       "5    388514400\n",
       "6    358457280\n",
       "Name: Tổng tiền, dtype: int64"
      ]
     },
     "execution_count": 18,
     "metadata": {},
     "output_type": "execute_result"
    }
   ],
   "source": [
    "df['Ngày'] = pd.to_datetime(df['Ngày'], format='%d/%m/%Y')\n",
    "df['Tháng'] = df['Ngày'].dt.month\n",
    "monthly_revenue = df.groupby('Tháng')['Tổng tiền'].sum()\n",
    "monthly_revenue"
   ]
  },
  {
   "cell_type": "markdown",
   "metadata": {
    "id": "HdnmkMPwDi7m"
   },
   "source": [
    "***Số lượng khách hàng theo tháng***"
   ]
  },
  {
   "cell_type": "code",
   "execution_count": 19,
   "metadata": {
    "colab": {
     "base_uri": "https://localhost:8080/",
     "height": 175
    },
    "id": "hZY3_9EMDlYn",
    "outputId": "6551e5de-e919-4141-e749-59299a9c9890"
   },
   "outputs": [
    {
     "data": {
      "text/html": [
       "\n",
       "  <div id=\"df-0e1ba762-5e90-4134-9c0d-d3245e954bd1\">\n",
       "    <div class=\"colab-df-container\">\n",
       "      <div>\n",
       "<style scoped>\n",
       "    .dataframe tbody tr th:only-of-type {\n",
       "        vertical-align: middle;\n",
       "    }\n",
       "\n",
       "    .dataframe tbody tr th {\n",
       "        vertical-align: top;\n",
       "    }\n",
       "\n",
       "    .dataframe thead th {\n",
       "        text-align: right;\n",
       "    }\n",
       "</style>\n",
       "<table border=\"1\" class=\"dataframe\">\n",
       "  <thead>\n",
       "    <tr style=\"text-align: right;\">\n",
       "      <th></th>\n",
       "      <th>Tháng</th>\n",
       "      <th>Số lượng khách hàng</th>\n",
       "    </tr>\n",
       "  </thead>\n",
       "  <tbody>\n",
       "    <tr>\n",
       "      <th>0</th>\n",
       "      <td>3</td>\n",
       "      <td>4309</td>\n",
       "    </tr>\n",
       "    <tr>\n",
       "      <th>1</th>\n",
       "      <td>4</td>\n",
       "      <td>4407</td>\n",
       "    </tr>\n",
       "    <tr>\n",
       "      <th>2</th>\n",
       "      <td>5</td>\n",
       "      <td>4768</td>\n",
       "    </tr>\n",
       "    <tr>\n",
       "      <th>3</th>\n",
       "      <td>6</td>\n",
       "      <td>4273</td>\n",
       "    </tr>\n",
       "  </tbody>\n",
       "</table>\n",
       "</div>\n",
       "      <button class=\"colab-df-convert\" onclick=\"convertToInteractive('df-0e1ba762-5e90-4134-9c0d-d3245e954bd1')\"\n",
       "              title=\"Convert this dataframe to an interactive table.\"\n",
       "              style=\"display:none;\">\n",
       "        \n",
       "  <svg xmlns=\"http://www.w3.org/2000/svg\" height=\"24px\"viewBox=\"0 0 24 24\"\n",
       "       width=\"24px\">\n",
       "    <path d=\"M0 0h24v24H0V0z\" fill=\"none\"/>\n",
       "    <path d=\"M18.56 5.44l.94 2.06.94-2.06 2.06-.94-2.06-.94-.94-2.06-.94 2.06-2.06.94zm-11 1L8.5 8.5l.94-2.06 2.06-.94-2.06-.94L8.5 2.5l-.94 2.06-2.06.94zm10 10l.94 2.06.94-2.06 2.06-.94-2.06-.94-.94-2.06-.94 2.06-2.06.94z\"/><path d=\"M17.41 7.96l-1.37-1.37c-.4-.4-.92-.59-1.43-.59-.52 0-1.04.2-1.43.59L10.3 9.45l-7.72 7.72c-.78.78-.78 2.05 0 2.83L4 21.41c.39.39.9.59 1.41.59.51 0 1.02-.2 1.41-.59l7.78-7.78 2.81-2.81c.8-.78.8-2.07 0-2.86zM5.41 20L4 18.59l7.72-7.72 1.47 1.35L5.41 20z\"/>\n",
       "  </svg>\n",
       "      </button>\n",
       "      \n",
       "  <style>\n",
       "    .colab-df-container {\n",
       "      display:flex;\n",
       "      flex-wrap:wrap;\n",
       "      gap: 12px;\n",
       "    }\n",
       "\n",
       "    .colab-df-convert {\n",
       "      background-color: #E8F0FE;\n",
       "      border: none;\n",
       "      border-radius: 50%;\n",
       "      cursor: pointer;\n",
       "      display: none;\n",
       "      fill: #1967D2;\n",
       "      height: 32px;\n",
       "      padding: 0 0 0 0;\n",
       "      width: 32px;\n",
       "    }\n",
       "\n",
       "    .colab-df-convert:hover {\n",
       "      background-color: #E2EBFA;\n",
       "      box-shadow: 0px 1px 2px rgba(60, 64, 67, 0.3), 0px 1px 3px 1px rgba(60, 64, 67, 0.15);\n",
       "      fill: #174EA6;\n",
       "    }\n",
       "\n",
       "    [theme=dark] .colab-df-convert {\n",
       "      background-color: #3B4455;\n",
       "      fill: #D2E3FC;\n",
       "    }\n",
       "\n",
       "    [theme=dark] .colab-df-convert:hover {\n",
       "      background-color: #434B5C;\n",
       "      box-shadow: 0px 1px 3px 1px rgba(0, 0, 0, 0.15);\n",
       "      filter: drop-shadow(0px 1px 2px rgba(0, 0, 0, 0.3));\n",
       "      fill: #FFFFFF;\n",
       "    }\n",
       "  </style>\n",
       "\n",
       "      <script>\n",
       "        const buttonEl =\n",
       "          document.querySelector('#df-0e1ba762-5e90-4134-9c0d-d3245e954bd1 button.colab-df-convert');\n",
       "        buttonEl.style.display =\n",
       "          google.colab.kernel.accessAllowed ? 'block' : 'none';\n",
       "\n",
       "        async function convertToInteractive(key) {\n",
       "          const element = document.querySelector('#df-0e1ba762-5e90-4134-9c0d-d3245e954bd1');\n",
       "          const dataTable =\n",
       "            await google.colab.kernel.invokeFunction('convertToInteractive',\n",
       "                                                     [key], {});\n",
       "          if (!dataTable) return;\n",
       "\n",
       "          const docLinkHtml = 'Like what you see? Visit the ' +\n",
       "            '<a target=\"_blank\" href=https://colab.research.google.com/notebooks/data_table.ipynb>data table notebook</a>'\n",
       "            + ' to learn more about interactive tables.';\n",
       "          element.innerHTML = '';\n",
       "          dataTable['output_type'] = 'display_data';\n",
       "          await google.colab.output.renderOutput(dataTable, element);\n",
       "          const docLink = document.createElement('div');\n",
       "          docLink.innerHTML = docLinkHtml;\n",
       "          element.appendChild(docLink);\n",
       "        }\n",
       "      </script>\n",
       "    </div>\n",
       "  </div>\n",
       "  "
      ],
      "text/plain": [
       "   Tháng  Số lượng khách hàng\n",
       "0      3                 4309\n",
       "1      4                 4407\n",
       "2      5                 4768\n",
       "3      6                 4273"
      ]
     },
     "execution_count": 19,
     "metadata": {},
     "output_type": "execute_result"
    }
   ],
   "source": [
    "num_custom = df.groupby(['Hoá đơn', 'Tháng']).size().reset_index(name='Số lượng khách hàng')\n",
    "num_custom = num_custom.groupby('Tháng').count()['Số lượng khách hàng'].reset_index()\n",
    "num_custom"
   ]
  },
  {
   "cell_type": "markdown",
   "metadata": {
    "id": "DxeEHBZrPFoD"
   },
   "source": [
    "***Phương thức thanh toán***"
   ]
  },
  {
   "cell_type": "code",
   "execution_count": 20,
   "metadata": {
    "colab": {
     "base_uri": "https://localhost:8080/"
    },
    "id": "BuSmDosSO_uP",
    "outputId": "16aeb95c-12fa-4a6b-ef7b-e79476dc5186"
   },
   "outputs": [
    {
     "data": {
      "text/plain": [
       "CASH           18581\n",
       "ATM             8970\n",
       "TRANSFER        4195\n",
       "MOMO            2703\n",
       "GRAB_FOOD        194\n",
       "SHOPEE_FOOD       81\n",
       "GOFOOD            24\n",
       "SHOPEEFOOD        13\n",
       "BAEMIN            13\n",
       "PAYOO              5\n",
       "Name: PTTT, dtype: int64"
      ]
     },
     "execution_count": 20,
     "metadata": {},
     "output_type": "execute_result"
    }
   ],
   "source": [
    "PTTT = df['PTTT'].value_counts()\n",
    "PTTT"
   ]
  },
  {
   "cell_type": "markdown",
   "metadata": {
    "id": "Z-un-lGF5jUR"
   },
   "source": [
    "> Vì SHOPEE_FOOD và SHOPEEFOOD là 1 nên tiến hành gộp"
   ]
  },
  {
   "cell_type": "code",
   "execution_count": 21,
   "metadata": {
    "colab": {
     "base_uri": "https://localhost:8080/"
    },
    "id": "rAIx78uc5D15",
    "outputId": "0456eb9f-77f7-4e46-c2d6-2d259c40d0ae"
   },
   "outputs": [
    {
     "data": {
      "text/plain": [
       "CASH           18581\n",
       "ATM             8970\n",
       "TRANSFER        4195\n",
       "MOMO            2703\n",
       "GRAB_FOOD        194\n",
       "SHOPEE_FOOD       94\n",
       "GOFOOD            24\n",
       "BAEMIN            13\n",
       "PAYOO              5\n",
       "Name: PTTT, dtype: int64"
      ]
     },
     "execution_count": 21,
     "metadata": {},
     "output_type": "execute_result"
    }
   ],
   "source": [
    "PTTT['SHOPEE_FOOD'] = PTTT['SHOPEE_FOOD'] + PTTT['SHOPEEFOOD']\n",
    "PTTT.drop(['SHOPEEFOOD'])"
   ]
  },
  {
   "cell_type": "markdown",
   "metadata": {
    "id": "2nAy66VPPH-c"
   },
   "source": [
    "***Khách sử dụng dịch vụ nào?***"
   ]
  },
  {
   "cell_type": "code",
   "execution_count": 22,
   "metadata": {
    "colab": {
     "base_uri": "https://localhost:8080/"
    },
    "id": "02tT10hmIXo6",
    "outputId": "d276f085-7f35-4af3-f15c-b5be56e53f6d"
   },
   "outputs": [
    {
     "data": {
      "text/plain": [
       "TẠI CHỖ           34753\n",
       "MANG VỀ              16\n",
       "GOJEK (GOVIET)       10\n",
       "Name: Nguồn, dtype: int64"
      ]
     },
     "execution_count": 22,
     "metadata": {},
     "output_type": "execute_result"
    }
   ],
   "source": [
    "DV = df['Nguồn'].value_counts()\n",
    "DV"
   ]
  },
  {
   "cell_type": "markdown",
   "metadata": {
    "id": "_Yhn_sVfDcR1"
   },
   "source": [
    "***Khách sử dụng nhóm món nào?***"
   ]
  },
  {
   "cell_type": "code",
   "execution_count": 37,
   "metadata": {
    "colab": {
     "base_uri": "https://localhost:8080/"
    },
    "id": "cZjQ5xFPDsE2",
    "outputId": "464d3b1a-d03d-4986-b251-9649969133e4"
   },
   "outputs": [
    {
     "data": {
      "text/plain": [
       "COFFEE                              12073\n",
       "TEA                                  7413\n",
       "ĐỒ ĂN TRƯA                           4403\n",
       "Combo                                3039\n",
       "ICED- BLENDED, SMOOTHIES & JUICE     2204\n",
       "CAKE                                 1926\n",
       "ĐỒ ĂN SÁNG                           1824\n",
       "EXTRA                                1139\n",
       "COLD BREW                             663\n",
       "PHÒNG BOOKING                          43\n",
       "MERCHANDISE                            40\n",
       "UnCategory                             12\n",
       "Name: Nhóm món, dtype: int64"
      ]
     },
     "execution_count": 37,
     "metadata": {},
     "output_type": "execute_result"
    }
   ],
   "source": [
    "LM = df['Nhóm món'].value_counts()\n",
    "LM"
   ]
  },
  {
   "cell_type": "markdown",
   "metadata": {
    "id": "3DcmGxUDOViW"
   },
   "source": [
    "***Top 10 khách hàng tiềm năng***"
   ]
  },
  {
   "cell_type": "code",
   "execution_count": 24,
   "metadata": {
    "colab": {
     "base_uri": "https://localhost:8080/"
    },
    "id": "QHHoC3vHOYff",
    "outputId": "c378d1a7-92cf-4d04-a278-597d4f403f3a"
   },
   "outputs": [
    {
     "data": {
      "text/plain": [
       "Hoá đơn\n",
       "8J8BB2J5K4V2DXIY10E0NUR     7611000\n",
       "8J8BB2J5K4V2336T5OQ707AV    6116000\n",
       "8J8BB2J5K4V22BHS0CM01H3     5286000\n",
       "8J8BB2J5K4V23RJIOAKI9T      5097000\n",
       "8J8BB2J5K4V227BRCPMB07S     3976000\n",
       "8J8BB2J5K4V2336T62SI60UV    3892000\n",
       "8J8BB2J5K4V2IW51ZO2729M     3853000\n",
       "8J8BB2J5K4V2IQ6V61Q1E68     3723000\n",
       "8J8BB2J5K4V2336T5012FLGA    3336000\n",
       "8J8BB2J5K4V2336T72DOOEX6    3105000\n",
       "Name: Tổng tiền, dtype: int64"
      ]
     },
     "execution_count": 24,
     "metadata": {},
     "output_type": "execute_result"
    }
   ],
   "source": [
    "custom_revenue = df.groupby('Hoá đơn')['Tổng tiền'].sum()\n",
    "custom_revenue.sort_values(ascending=False).head(10)"
   ]
  },
  {
   "cell_type": "markdown",
   "metadata": {
    "id": "3Qqp1sMwSawt"
   },
   "source": [
    "> Với dữ liệu ban đầu đã cho không có thông tin của khách hàng nên sử dụng mã hóa đơn để tượng trưng cho khách hàng. Quý doanh nghiệp có thể cung cấp mã khách hàng để tìm ra các khách hàng tìm năng của quán. Từ đó, áp dụng các ưu đãi đặc biệt đối với khách hàng tiềm năng."
   ]
  },
  {
   "cell_type": "markdown",
   "metadata": {
    "id": "kWYr6NmKSCHN"
   },
   "source": [
    "***Sau khi xử lí và phân tích xong, xuất file csv để tạo dashboard***"
   ]
  },
  {
   "cell_type": "code",
   "execution_count": 36,
   "metadata": {
    "id": "UwPmwVfJ5pcs"
   },
   "outputs": [],
   "source": [
    "#pd.DataFrame(df).to_csv('data_processed.csv')"
   ]
  },
  {
   "cell_type": "markdown",
   "metadata": {
    "id": "_vQgSTOy-Sig"
   },
   "source": [
    "# Trực quan hóa dữ liệu"
   ]
  },
  {
   "cell_type": "markdown",
   "metadata": {
    "id": "HWP8o5kkCy02"
   },
   "source": [
    "***Top 10 tên món hàng bán chạy nhất của quán***"
   ]
  },
  {
   "cell_type": "code",
   "execution_count": 25,
   "metadata": {
    "colab": {
     "base_uri": "https://localhost:8080/",
     "height": 607
    },
    "id": "npTOta71mXfB",
    "outputId": "50acf249-718d-4c7e-ddb2-e042c44a1c24"
   },
   "outputs": [
    {
     "data": {
      "image/png": "[encoded data removed]",
      "text/plain": [
       "<Figure size 1000x600 with 1 Axes>"
      ]
     },
     "metadata": {},
     "output_type": "display_data"
    }
   ],
   "source": [
    "# Trực quan hóa thành biểu đồ cột\n",
    "plt.figure(figsize=(10, 6))\n",
    "ax = top10_best.plot(kind='barh')\n",
    "plt.xlabel('Số lượng')\n",
    "plt.ylabel('Tên hàng')\n",
    "plt.title('Top 10 tên hàng best-seller của quán')\n",
    "\n",
    "# Thêm nhãn số lượng lên mỗi cột\n",
    "for i, v in enumerate(top10_best):\n",
    "    ax.text(v + 10, i, str(v), color='black')\n",
    "\n",
    "plt.tight_layout()\n",
    "plt.show()"
   ]
  },
  {
   "cell_type": "markdown",
   "metadata": {
    "id": "7eKQbHTWC33-"
   },
   "source": [
    "***Biểu đồ doanh thu theo ngày - tháng 3***"
   ]
  },
  {
   "cell_type": "code",
   "execution_count": 26,
   "metadata": {
    "colab": {
     "base_uri": "https://localhost:8080/",
     "height": 507
    },
    "id": "X8K5BiDqnAcZ",
    "outputId": "b8f6b739-5515-4be4-e613-dd1e8223b5e4"
   },
   "outputs": [
    {
     "data": {
      "image/png": "[encoded data removed]",
      "text/plain": [
       "<Figure size 1000x500 with 1 Axes>"
      ]
     },
     "metadata": {},
     "output_type": "display_data"
    }
   ],
   "source": [
    "plt.figure(figsize=(10, 5))\n",
    "plt.plot(march_revenue.index, march_revenue.values)\n",
    "plt.xlabel('Ngày')\n",
    "plt.ylabel('Doanh thu')\n",
    "plt.title('Biểu đồ doanh thu trong tháng 3')\n",
    "plt.xticks(rotation=45)\n",
    "plt.tight_layout()\n",
    "plt.show()"
   ]
  },
  {
   "cell_type": "markdown",
   "metadata": {
    "id": "5k1DbNZ0DBKV"
   },
   "source": [
    "***Biểu đồ doanh thu theo ngày - tháng 4***"
   ]
  },
  {
   "cell_type": "code",
   "execution_count": 27,
   "metadata": {
    "colab": {
     "base_uri": "https://localhost:8080/",
     "height": 507
    },
    "id": "kWhoNIkDwV33",
    "outputId": "67456c25-c91e-45e4-93b8-28ee00214d8d"
   },
   "outputs": [
    {
     "data": {
      "image/png": "[encoded data removed]",
      "text/plain": [
       "<Figure size 1000x500 with 1 Axes>"
      ]
     },
     "metadata": {},
     "output_type": "display_data"
    }
   ],
   "source": [
    "plt.figure(figsize=(10, 5))\n",
    "plt.plot(april_revenue.index, april_revenue.values)\n",
    "plt.xlabel('Ngày')\n",
    "plt.ylabel('Doanh thu')\n",
    "plt.title('Biểu đồ doanh thu trong tháng 4')\n",
    "plt.xticks(rotation=45)\n",
    "plt.tight_layout()\n",
    "plt.show()"
   ]
  },
  {
   "cell_type": "markdown",
   "metadata": {
    "id": "9UdVVuxJDCOh"
   },
   "source": [
    "***Biểu đồ doanh thu theo ngày - tháng 5***"
   ]
  },
  {
   "cell_type": "code",
   "execution_count": 28,
   "metadata": {
    "colab": {
     "base_uri": "https://localhost:8080/",
     "height": 507
    },
    "id": "oHBMhNMNwWO5",
    "outputId": "3a471527-5ab7-45bb-97b0-525860bb025b"
   },
   "outputs": [
    {
     "data": {
      "image/png": "[encoded data removed]",
      "text/plain": [
       "<Figure size 1000x500 with 1 Axes>"
      ]
     },
     "metadata": {},
     "output_type": "display_data"
    }
   ],
   "source": [
    "plt.figure(figsize=(10, 5))\n",
    "plt.plot(may_revenue.index, may_revenue.values)\n",
    "plt.xlabel('Ngày')\n",
    "plt.ylabel('Doanh thu')\n",
    "plt.title('Biểu đồ doanh thu trong tháng 5')\n",
    "plt.xticks(rotation=45, ha='right')\n",
    "plt.tight_layout()\n",
    "plt.show()"
   ]
  },
  {
   "cell_type": "markdown",
   "metadata": {
    "id": "n94DP8_3DDp2"
   },
   "source": [
    "***Biểu đồ doanh thu theo ngày - tháng 6***"
   ]
  },
  {
   "cell_type": "code",
   "execution_count": 29,
   "metadata": {
    "colab": {
     "base_uri": "https://localhost:8080/",
     "height": 507
    },
    "id": "kyrpkZlXwWpO",
    "outputId": "839cd3a4-2587-4988-8651-29fecfc1f023"
   },
   "outputs": [
    {
     "data": {
      "image/png": "[encoded data removed]",
      "text/plain": [
       "<Figure size 1000x500 with 1 Axes>"
      ]
     },
     "metadata": {},
     "output_type": "display_data"
    }
   ],
   "source": [
    "plt.figure(figsize=(10, 5))\n",
    "plt.plot(june_revenue.index, june_revenue.values)\n",
    "plt.xlabel('Ngày')\n",
    "plt.ylabel('Doanh thu')\n",
    "plt.title('Biểu đồ doanh thu trong tháng 6')\n",
    "plt.xticks(rotation=45)\n",
    "plt.tight_layout()\n",
    "plt.show()"
   ]
  },
  {
   "cell_type": "markdown",
   "metadata": {
    "id": "o06xq0uhDEtg"
   },
   "source": [
    "***Biểu đồ doanh thu theo tháng***"
   ]
  },
  {
   "cell_type": "code",
   "execution_count": 30,
   "metadata": {
    "colab": {
     "base_uri": "https://localhost:8080/",
     "height": 507
    },
    "id": "eRkB4R8Ow8eY",
    "outputId": "cf58bc2a-6c15-4130-a0e4-2aefbec36421"
   },
   "outputs": [
    {
     "data": {
      "image/png": "[encoded data removed]",
      "text/plain": [
       "<Figure size 1400x500 with 1 Axes>"
      ]
     },
     "metadata": {},
     "output_type": "display_data"
    }
   ],
   "source": [
    "# Vẽ biểu đồ đường cho từng tháng\n",
    "plt.figure(figsize=(14, 5))\n",
    "plt.plot(march_revenue.index, march_revenue.values, label='Tháng 3')\n",
    "plt.plot(april_revenue.index, april_revenue.values, label='Tháng 4')\n",
    "plt.plot(may_revenue.index, may_revenue.values, label='Tháng 5')\n",
    "plt.plot(june_revenue.index, june_revenue.values, label='Tháng 6')\n",
    "\n",
    "plt.xlabel('Ngày')\n",
    "plt.ylabel('Doanh thu')\n",
    "plt.title('Biểu đồ doanh thu theo tháng')\n",
    "plt.xticks(rotation=45)\n",
    "plt.legend()\n",
    "plt.tight_layout()\n",
    "plt.show()"
   ]
  },
  {
   "cell_type": "markdown",
   "metadata": {
    "id": "pcBuucz3DHdP"
   },
   "source": [
    "***Biểu đồ tròn phương thức thanh toán***"
   ]
  },
  {
   "cell_type": "markdown",
   "metadata": {
    "id": "sKl1ROsv6RxR"
   },
   "source": [
    "> Vì các PTTT như **GRAB_FOOD**, **SHOPEE_FOOD**, **GOFOOD**, **BAEMIN**, **PAYOO** chiếm số lượng ít cho nên khi vẽ biểu đồ tròn sẽ xảy ra hiện tượng chồng chữ. Giải pháp là gộp chung thành một tập là tổng giá trị của **GRAB_FOOD**, **SHOPEE_FOOD**, **GOFOOD**, **BAEMIN**, **PAYOO**."
   ]
  },
  {
   "cell_type": "code",
   "execution_count": 31,
   "metadata": {
    "colab": {
     "base_uri": "https://localhost:8080/"
    },
    "id": "hRMCVPbn6OBY",
    "outputId": "1ed81bf9-deb9-41c4-d7cb-71401d05178b"
   },
   "outputs": [
    {
     "data": {
      "text/plain": [
       "CASH        18581\n",
       "ATM          8970\n",
       "TRANSFER     4195\n",
       "MOMO         2703\n",
       "Khác          343\n",
       "Name: PTTT, dtype: int64"
      ]
     },
     "execution_count": 31,
     "metadata": {},
     "output_type": "execute_result"
    }
   ],
   "source": [
    "PTTT.at['Khác'] = PTTT[['GRAB_FOOD', 'SHOPEE_FOOD', 'GOFOOD', 'SHOPEEFOOD', 'BAEMIN', 'PAYOO']].sum()\n",
    "PTTT = PTTT.drop(['GRAB_FOOD', 'SHOPEE_FOOD', 'GOFOOD', 'SHOPEEFOOD', 'BAEMIN', 'PAYOO'])\n",
    "PTTT"
   ]
  },
  {
   "cell_type": "code",
   "execution_count": 32,
   "metadata": {
    "colab": {
     "base_uri": "https://localhost:8080/",
     "height": 521
    },
    "id": "ppdiwgZt77Yo",
    "outputId": "036b0a18-842e-4ede-dbf3-ff63921b8782"
   },
   "outputs": [
    {
     "data": {
      "image/png": "[encoded data removed]",
      "text/plain": [
       "<Figure size 1500x600 with 1 Axes>"
      ]
     },
     "metadata": {},
     "output_type": "display_data"
    }
   ],
   "source": [
    "# Vẽ biểu đồ tròn\n",
    "plt.figure(figsize=(15, 6))\n",
    "plt.pie(PTTT.values, labels=PTTT.index, autopct='%1.1f%%')\n",
    "plt.title('Phương thức thanh toán')\n",
    "plt.legend(loc='best')\n",
    "plt.show()"
   ]
  },
  {
   "cell_type": "markdown",
   "metadata": {
    "id": "pPW8tSonDNqu"
   },
   "source": [
    "***Biểu đồ tròn loại hình dịch vụ***"
   ]
  },
  {
   "cell_type": "code",
   "execution_count": 33,
   "metadata": {
    "colab": {
     "base_uri": "https://localhost:8080/"
    },
    "id": "7BE8LTKuCVKu",
    "outputId": "2c3defea-d1f5-40a5-be95-c257a050d300"
   },
   "outputs": [
    {
     "data": {
      "text/plain": [
       "COFFEE                              12073\n",
       "TEA                                  7413\n",
       "ĐỒ ĂN TRƯA                           4403\n",
       "Combo                                3039\n",
       "ICED- BLENDED, SMOOTHIES & JUICE     2204\n",
       "CAKE                                 1926\n",
       "ĐỒ ĂN SÁNG                           1824\n",
       "EXTRA                                1139\n",
       "Khác                                  758\n",
       "Name: Nhóm món, dtype: int64"
      ]
     },
     "execution_count": 33,
     "metadata": {},
     "output_type": "execute_result"
    }
   ],
   "source": [
    "LM.at['Khác'] = LM[['COLD BREW ', 'PHÒNG BOOKING', 'MERCHANDISE', 'UnCategory']].sum()\n",
    "LM = LM.drop(['COLD BREW ', 'PHÒNG BOOKING', 'MERCHANDISE', 'UnCategory'])\n",
    "LM"
   ]
  },
  {
   "cell_type": "code",
   "execution_count": 34,
   "metadata": {
    "colab": {
     "base_uri": "https://localhost:8080/",
     "height": 521
    },
    "id": "0B95Pxpr8Jb4",
    "outputId": "32c235fd-c44f-49dc-e539-25b4bcf8c773"
   },
   "outputs": [
    {
     "data": {
      "image/png": "[encoded data removed]",
      "text/plain": [
       "<Figure size 800x600 with 1 Axes>"
      ]
     },
     "metadata": {},
     "output_type": "display_data"
    }
   ],
   "source": [
    "# Vẽ biểu đồ tròn\n",
    "plt.figure(figsize=(8, 6))\n",
    "plt.pie(LM.values, labels=LM.index, autopct='%1.1f%%')\n",
    "plt.title('Phương thức thanh toán')\n",
    "\n",
    "plt.show()"
   ]
  }
 ],
 "metadata": {
  "colab": {
   "provenance": []
  },
  "kernelspec": {
   "display_name": "Python 3 (ipykernel)",
   "language": "python",
   "name": "python3"
  },
  "language_info": {
   "codemirror_mode": {
    "name": "ipython",
    "version": 3
   },
   "file_extension": ".py",
   "mimetype": "text/x-python",
   "name": "python",
   "nbconvert_exporter": "python",
   "pygments_lexer": "ipython3",
   "version": "3.9.5"
  }
 },
 "nbformat": 4,
 "nbformat_minor": 1
}
